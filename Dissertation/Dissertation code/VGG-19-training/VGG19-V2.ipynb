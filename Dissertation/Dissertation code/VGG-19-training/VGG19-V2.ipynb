{
 "cells": [
  {
   "cell_type": "markdown",
   "metadata": {},
   "source": [
    "# Importing all the libraries required and cofiguring the GPU"
   ]
  },
  {
   "cell_type": "code",
   "execution_count": 1,
   "metadata": {
    "colab": {
     "base_uri": "https://localhost:8080/"
    },
    "executionInfo": {
     "elapsed": 12745,
     "status": "ok",
     "timestamp": 1628503126007,
     "user": {
      "displayName": "Diana Prahoveanu",
      "photoUrl": "",
      "userId": "09455902628397953770"
     },
     "user_tz": -180
    },
    "id": "q4da_7OqpUAe",
    "outputId": "6fd4714a-4daa-49ea-c126-ddc532e65e63"
   },
   "outputs": [
    {
     "name": "stdout",
     "output_type": "stream",
     "text": [
      "1 Physical GPUs, 1 Logical GPUs\n"
     ]
    }
   ],
   "source": [
    "import matplotlib.pyplot as plt\n",
    "import numpy as np\n",
    "import os\n",
    "import tensorflow as tf\n",
    "from tensorflow import keras\n",
    "from tensorflow.keras import backend as K\n",
    "from tensorflow.keras import layers,models\n",
    "from tensorflow.keras.models import Model\n",
    "from tensorflow.keras.preprocessing.image import ImageDataGenerator\n",
    "from tensorflow.keras.regularizers import l2\n",
    "import math\n",
    "gpus = tf.config.list_physical_devices('GPU')\n",
    "if gpus:\n",
    "  try:\n",
    "    # Currently, memory growth needs to be the same across GPUs\n",
    "    for gpu in gpus:\n",
    "      tf.config.experimental.set_memory_growth(gpu, True)\n",
    "    logical_gpus = tf.config.experimental.list_logical_devices('GPU')\n",
    "    print(len(gpus), \"Physical GPUs,\", len(logical_gpus), \"Logical GPUs\")\n",
    "  except RuntimeError as e:\n",
    "    # Memory growth must be set before GPUs have been initialized\n",
    "    print(e)"
   ]
  },
  {
   "cell_type": "markdown",
   "metadata": {},
   "source": [
    "# Importing a pre-trained model from keras using the weights from ImageNet"
   ]
  },
  {
   "cell_type": "code",
   "execution_count": 2,
   "metadata": {
    "colab": {
     "base_uri": "https://localhost:8080/"
    },
    "executionInfo": {
     "elapsed": 1433,
     "status": "ok",
     "timestamp": 1628503414930,
     "user": {
      "displayName": "Diana Prahoveanu",
      "photoUrl": "",
      "userId": "09455902628397953770"
     },
     "user_tz": -180
    },
    "id": "IycpSDBDpUAh",
    "outputId": "62d2c836-2525-4c0c-a85f-13415c3a4c63"
   },
   "outputs": [],
   "source": [
    "img_width, img_height = 224, 224 #Set the image size\n",
    "#Check the picture layout\n",
    "if K.image_data_format() == 'channels_first':\n",
    "    input_shape = (3, img_width, img_height)\n",
    "else:\n",
    "    input_shape = (img_width, img_height, 3)\n",
    "#Save the imported model in variable called base_model\n",
    "base_model=tf.keras.applications.VGG19(\n",
    "    include_top=False,\n",
    "    input_shape=input_shape,\n",
    "    weights=\"imagenet\",\n",
    ")\n",
    "\n",
    "#Freez the layers in order to not lose the weights\n",
    "for layer in base_model.layers:\n",
    "        layer.trainable = False\n",
    "        "
   ]
  },
  {
   "cell_type": "markdown",
   "metadata": {},
   "source": [
    "# Using Image data generator for data augmentation"
   ]
  },
  {
   "cell_type": "code",
   "execution_count": 3,
   "metadata": {
    "colab": {
     "base_uri": "https://localhost:8080/"
    },
    "executionInfo": {
     "elapsed": 8343,
     "status": "ok",
     "timestamp": 1628503423272,
     "user": {
      "displayName": "Diana Prahoveanu",
      "photoUrl": "",
      "userId": "09455902628397953770"
     },
     "user_tz": -180
    },
    "id": "-fSTNYrJpUAh",
    "outputId": "6fd851da-a144-4555-a08d-14684022a066"
   },
   "outputs": [
    {
     "name": "stdout",
     "output_type": "stream",
     "text": [
      "Found 227124 images belonging to 7 classes.\n",
      "Found 56777 images belonging to 7 classes.\n"
     ]
    },
    {
     "data": {
      "text/plain": [
       "{'Anger': 0,\n",
       " 'Disgust': 1,\n",
       " 'Fear': 2,\n",
       " 'Happy': 3,\n",
       " 'Neutral': 4,\n",
       " 'Sad': 5,\n",
       " 'Surprise': 6}"
      ]
     },
     "execution_count": 3,
     "metadata": {},
     "output_type": "execute_result"
    }
   ],
   "source": [
    "train_data_dir = 'D:/University 3rd year/Dissertation/Code/Training_data_c' #Instantiate the path for dataset \n",
    "batch_size = 128 #Set the batch size\n",
    "\n",
    "#Set the variables for data augmentation\n",
    "train_datagen = ImageDataGenerator(\n",
    "       rescale=1./255,\n",
    "        zoom_range=0.1,\n",
    "        validation_split=0.2,\n",
    "        rotation_range=5,\n",
    "        horizontal_flip=True)\n",
    "#Apply data augmentation on training set\n",
    "training_set = train_datagen.flow_from_directory(\n",
    "        train_data_dir,\n",
    "        target_size=(img_width, img_height),\n",
    "        batch_size=batch_size,\n",
    "        shuffle = True,\n",
    "        subset='training',\n",
    "        class_mode='categorical')\n",
    " \n",
    "#Apply data augmentation on validation set\n",
    "test_set= train_datagen.flow_from_directory(\n",
    "        train_data_dir,\n",
    "        target_size=(img_width, img_height),\n",
    "        batch_size=batch_size,\n",
    "        subset='validation',\n",
    "        shuffle = False,\n",
    "        class_mode='categorical')\n",
    " \n",
    "\n",
    "test_set.class_indices #Print the classes"
   ]
  },
  {
   "cell_type": "markdown",
   "metadata": {},
   "source": [
    "# Add the layers and parameters to the model"
   ]
  },
  {
   "cell_type": "code",
   "execution_count": 4,
   "metadata": {
    "colab": {
     "base_uri": "https://localhost:8080/"
    },
    "executionInfo": {
     "elapsed": 4,
     "status": "ok",
     "timestamp": 1628503423272,
     "user": {
      "displayName": "Diana Prahoveanu",
      "photoUrl": "",
      "userId": "09455902628397953770"
     },
     "user_tz": -180
    },
    "id": "OVUbDoOBpUAi",
    "outputId": "ca941352-6d67-439d-d40f-6f9163a05c90"
   },
   "outputs": [
    {
     "name": "stdout",
     "output_type": "stream",
     "text": [
      "Model: \"model\"\n",
      "_________________________________________________________________\n",
      "Layer (type)                 Output Shape              Param #   \n",
      "=================================================================\n",
      "input_1 (InputLayer)         [(None, 224, 224, 3)]     0         \n",
      "_________________________________________________________________\n",
      "block1_conv1 (Conv2D)        (None, 224, 224, 64)      1792      \n",
      "_________________________________________________________________\n",
      "block1_conv2 (Conv2D)        (None, 224, 224, 64)      36928     \n",
      "_________________________________________________________________\n",
      "block1_pool (MaxPooling2D)   (None, 112, 112, 64)      0         \n",
      "_________________________________________________________________\n",
      "block2_conv1 (Conv2D)        (None, 112, 112, 128)     73856     \n",
      "_________________________________________________________________\n",
      "block2_conv2 (Conv2D)        (None, 112, 112, 128)     147584    \n",
      "_________________________________________________________________\n",
      "block2_pool (MaxPooling2D)   (None, 56, 56, 128)       0         \n",
      "_________________________________________________________________\n",
      "block3_conv1 (Conv2D)        (None, 56, 56, 256)       295168    \n",
      "_________________________________________________________________\n",
      "block3_conv2 (Conv2D)        (None, 56, 56, 256)       590080    \n",
      "_________________________________________________________________\n",
      "block3_conv3 (Conv2D)        (None, 56, 56, 256)       590080    \n",
      "_________________________________________________________________\n",
      "block3_conv4 (Conv2D)        (None, 56, 56, 256)       590080    \n",
      "_________________________________________________________________\n",
      "block3_pool (MaxPooling2D)   (None, 28, 28, 256)       0         \n",
      "_________________________________________________________________\n",
      "block4_conv1 (Conv2D)        (None, 28, 28, 512)       1180160   \n",
      "_________________________________________________________________\n",
      "block4_conv2 (Conv2D)        (None, 28, 28, 512)       2359808   \n",
      "_________________________________________________________________\n",
      "block4_conv3 (Conv2D)        (None, 28, 28, 512)       2359808   \n",
      "_________________________________________________________________\n",
      "block4_conv4 (Conv2D)        (None, 28, 28, 512)       2359808   \n",
      "_________________________________________________________________\n",
      "block4_pool (MaxPooling2D)   (None, 14, 14, 512)       0         \n",
      "_________________________________________________________________\n",
      "block5_conv1 (Conv2D)        (None, 14, 14, 512)       2359808   \n",
      "_________________________________________________________________\n",
      "block5_conv2 (Conv2D)        (None, 14, 14, 512)       2359808   \n",
      "_________________________________________________________________\n",
      "block5_conv3 (Conv2D)        (None, 14, 14, 512)       2359808   \n",
      "_________________________________________________________________\n",
      "block5_conv4 (Conv2D)        (None, 14, 14, 512)       2359808   \n",
      "_________________________________________________________________\n",
      "block5_pool (MaxPooling2D)   (None, 7, 7, 512)         0         \n",
      "_________________________________________________________________\n",
      "global_max_pooling2d (Global (None, 512)               0         \n",
      "_________________________________________________________________\n",
      "flatten (Flatten)            (None, 512)               0         \n",
      "_________________________________________________________________\n",
      "dense (Dense)                (None, 1024)              525312    \n",
      "_________________________________________________________________\n",
      "re_lu (ReLU)                 (None, 1024)              0         \n",
      "_________________________________________________________________\n",
      "dense_1 (Dense)              (None, 7)                 7175      \n",
      "=================================================================\n",
      "Total params: 20,556,871\n",
      "Trainable params: 532,487\n",
      "Non-trainable params: 20,024,384\n",
      "_________________________________________________________________\n"
     ]
    }
   ],
   "source": [
    "num_classes = 7 #Set the number of output neurons\n",
    "                     \n",
    "base_input=base_model.layers[0].input #Save the layers of the pre-trained model\n",
    "base_output=base_model.layers[-1].output #Save the output of the last layer\n",
    "\n",
    "    \n",
    "final_output=layers.GlobalMaxPooling2D(data_format='channels_last')(base_output) #Add GlobalMaxPoolig layer\n",
    "    \n",
    "final_output=layers.Flatten()(final_output) # Add Flatten layer\n",
    "\n",
    "\n",
    "final_output=layers.Dense(1024)(final_output)#Add fully conected layer with 1024 neurons\n",
    "final_output=tf.keras.layers.ReLU()(final_output)#Add activation function\n",
    "\n",
    "final_output=layers.Dense(num_classes,activation='softmax')(final_output)#Add output layer with neurons for each class\n",
    "\n",
    "\n",
    "new_model=tf.keras.Model(inputs=base_input,outputs=final_output)#Add the new layers to the model\n",
    "new_model.compile(optimizer='adam', loss=tf.keras.losses.CategoricalCrossentropy(),metrics=['accuracy'])#Compile the model using adam optimizer\n",
    "new_model.summary()# Print the model"
   ]
  },
  {
   "cell_type": "markdown",
   "metadata": {},
   "source": [
    "# Train the model for ten epochs and save the best weights using ModelCheckpoint"
   ]
  },
  {
   "cell_type": "code",
   "execution_count": 5,
   "metadata": {
    "colab": {
     "base_uri": "https://localhost:8080/"
    },
    "executionInfo": {
     "elapsed": 37606819,
     "status": "ok",
     "timestamp": 1628541030089,
     "user": {
      "displayName": "Diana Prahoveanu",
      "photoUrl": "",
      "userId": "09455902628397953770"
     },
     "user_tz": -180
    },
    "id": "Kif1LdYKpUAj",
    "outputId": "500ec923-9424-4729-f318-cfb5e7cc0004",
    "scrolled": false
   },
   "outputs": [
    {
     "name": "stdout",
     "output_type": "stream",
     "text": [
      "Epoch 1/10\n",
      "1774/1774 [==============================] - 2800s 2s/step - loss: 1.2643 - accuracy: 0.5361 - val_loss: 1.1633 - val_accuracy: 0.5618\n",
      "Epoch 2/10\n",
      "1774/1774 [==============================] - 2877s 2s/step - loss: 1.1590 - accuracy: 0.5687 - val_loss: 1.1494 - val_accuracy: 0.5751\n",
      "Epoch 3/10\n",
      "1774/1774 [==============================] - 2999s 2s/step - loss: 1.1388 - accuracy: 0.5758 - val_loss: 1.1251 - val_accuracy: 0.5845\n",
      "Epoch 4/10\n",
      "1774/1774 [==============================] - 2937s 2s/step - loss: 1.1190 - accuracy: 0.5848 - val_loss: 1.1266 - val_accuracy: 0.5775\n",
      "Epoch 5/10\n",
      "1774/1774 [==============================] - 3018s 2s/step - loss: 1.1112 - accuracy: 0.5875 - val_loss: 1.1194 - val_accuracy: 0.5863\n",
      "Epoch 6/10\n",
      "1774/1774 [==============================] - 3108s 2s/step - loss: 1.1050 - accuracy: 0.5890 - val_loss: 1.1031 - val_accuracy: 0.5916\n",
      "Epoch 7/10\n",
      "1774/1774 [==============================] - 3210s 2s/step - loss: 1.0957 - accuracy: 0.5932 - val_loss: 1.0986 - val_accuracy: 0.5947\n",
      "Epoch 8/10\n",
      "1774/1774 [==============================] - 3291s 2s/step - loss: 1.0911 - accuracy: 0.5950 - val_loss: 1.1026 - val_accuracy: 0.5903\n",
      "Epoch 9/10\n",
      "1774/1774 [==============================] - 3375s 2s/step - loss: 1.0838 - accuracy: 0.5992 - val_loss: 1.0968 - val_accuracy: 0.5948\n",
      "Epoch 10/10\n",
      "1774/1774 [==============================] - 3434s 2s/step - loss: 1.0823 - accuracy: 0.5990 - val_loss: 1.0969 - val_accuracy: 0.5928\n"
     ]
    }
   ],
   "source": [
    "model = new_model\n",
    "#Create a folder with the best model\n",
    "directory='/content/drive/MyDrive/Emotion_recognition/VGG19/Checkpoint_Vgg19-V2'\n",
    "name='Model'\n",
    "saved = os.path.join(directory, name + \"-{epoch:02d}.h5\")\n",
    "#Set up the ModelChepoint\n",
    "callback=tf.keras.callbacks.ModelCheckpoint(\n",
    "    filepath=saved, monitor='val_loss', verbose=0, save_best_only=True,\n",
    "    save_weights_only=False, mode='min', save_freq='epoch'\n",
    ")\n",
    "#Train the model\n",
    "history=model.fit(training_set,\n",
    "        epochs=10,\n",
    "        callbacks=callback,\n",
    "        steps_per_epoch=227124 // batch_size,\n",
    "        validation_data=test_set,\n",
    "        validation_steps= 56777 // batch_size)"
   ]
  },
  {
   "cell_type": "markdown",
   "metadata": {},
   "source": [
    "# Plot the accuracy and cross-entrpy diagram"
   ]
  },
  {
   "cell_type": "code",
   "execution_count": 6,
   "metadata": {
    "colab": {
     "base_uri": "https://localhost:8080/",
     "height": 621
    },
    "executionInfo": {
     "elapsed": 8,
     "status": "ok",
     "timestamp": 1628541030090,
     "user": {
      "displayName": "Diana Prahoveanu",
      "photoUrl": "",
      "userId": "09455902628397953770"
     },
     "user_tz": -180
    },
    "id": "JpOeGehrpUAk",
    "outputId": "70b67deb-be2a-4ce5-ba5d-704708ddf400"
   },
   "outputs": [
    {
     "data": {
      "image/png": "[encoded data removed]",
      "text/plain": [
       "<Figure size 1440x720 with 2 Axes>"
      ]
     },
     "metadata": {
      "needs_background": "light"
     },
     "output_type": "display_data"
    }
   ],
   "source": [
    "acc = history.history['accuracy']\n",
    "val_acc = history.history['val_accuracy']\n",
    "\n",
    "loss = history.history['loss']\n",
    "val_loss = history.history['val_loss']\n",
    "\n",
    "plt.figure(figsize=(20, 10))\n",
    "plt.subplot(2, 1, 1)\n",
    "plt.plot(acc, label='Training Accuracy')\n",
    "plt.plot(val_acc, label='Validation Accuracy')\n",
    "plt.legend(loc='lower right')\n",
    "plt.ylabel('Accuracy')\n",
    "plt.ylim([min(plt.ylim()),1])\n",
    "plt.title('Training and Validation Accuracy')\n",
    "\n",
    "plt.subplot(2, 1, 2)\n",
    "plt.plot(loss, label='Training Loss')\n",
    "plt.plot(val_loss, label='Validation Loss')\n",
    "plt.legend(loc='upper right')\n",
    "plt.ylabel('Cross Entropy')\n",
    "plt.ylim([0,4.0])\n",
    "plt.title('Training and Validation Loss')\n",
    "plt.xlabel('epoch')\n",
    "plt.show()"
   ]
  },
  {
   "cell_type": "code",
   "execution_count": null,
   "metadata": {},
   "outputs": [],
   "source": []
  }
 ],
 "metadata": {
  "accelerator": "GPU",
  "colab": {
   "collapsed_sections": [],
   "machine_shape": "hm",
   "name": "VGG19-V2.ipynb",
   "provenance": []
  },
  "kernelspec": {
   "display_name": "Python 3",
   "language": "python",
   "name": "python3"
  },
  "language_info": {
   "codemirror_mode": {
    "name": "ipython",
    "version": 3
   },
   "file_extension": ".py",
   "mimetype": "text/x-python",
   "name": "python",
   "nbconvert_exporter": "python",
   "pygments_lexer": "ipython3",
   "version": "3.8.5"
  }
 },
 "nbformat": 4,
 "nbformat_minor": 1
}
