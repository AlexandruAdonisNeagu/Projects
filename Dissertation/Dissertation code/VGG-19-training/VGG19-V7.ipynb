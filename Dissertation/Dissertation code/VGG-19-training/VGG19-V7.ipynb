{
 "cells": [
  {
   "cell_type": "markdown",
   "metadata": {},
   "source": [
    "# Import all the libraries required and cofiguring the GPU"
   ]
  },
  {
   "cell_type": "code",
   "execution_count": 1,
   "metadata": {
    "colab": {
     "base_uri": "https://localhost:8080/"
    },
    "executionInfo": {
     "elapsed": 9881,
     "status": "ok",
     "timestamp": 1628937129754,
     "user": {
      "displayName": "Diana Prahoveanu",
      "photoUrl": "",
      "userId": "09455902628397953770"
     },
     "user_tz": -180
    },
    "id": "q4da_7OqpUAe",
    "outputId": "cba0facb-f002-4ff1-ac9b-f108bbcb5259"
   },
   "outputs": [
    {
     "name": "stdout",
     "output_type": "stream",
     "text": [
      "\u001b[?25l\r",
      "\u001b[K     |███▍                            | 10 kB 30.2 MB/s eta 0:00:01\r",
      "\u001b[K     |██████▉                         | 20 kB 27.1 MB/s eta 0:00:01\r",
      "\u001b[K     |██████████▏                     | 30 kB 19.0 MB/s eta 0:00:01\r",
      "\u001b[K     |█████████████▋                  | 40 kB 16.8 MB/s eta 0:00:01\r",
      "\u001b[K     |█████████████████               | 51 kB 8.0 MB/s eta 0:00:01\r",
      "\u001b[K     |████████████████████▍           | 61 kB 9.4 MB/s eta 0:00:01\r",
      "\u001b[K     |███████████████████████▊        | 71 kB 8.7 MB/s eta 0:00:01\r",
      "\u001b[K     |███████████████████████████▏    | 81 kB 9.8 MB/s eta 0:00:01\r",
      "\u001b[K     |██████████████████████████████▋ | 92 kB 10.4 MB/s eta 0:00:01\r",
      "\u001b[K     |████████████████████████████████| 96 kB 4.5 MB/s \n",
      "\u001b[?25h1 Physical GPUs, 1 Logical GPUs\n"
     ]
    }
   ],
   "source": [
    "import matplotlib.pyplot as plt\n",
    "import numpy as np\n",
    "import os\n",
    "import tensorflow as tf\n",
    "from tensorflow import keras\n",
    "from tensorflow.keras import backend as K\n",
    "from tensorflow.keras import layers,models\n",
    "from tensorflow.keras.models import Model\n",
    "from tensorflow.keras.preprocessing.image import ImageDataGenerator\n",
    "from tensorflow.keras.regularizers import l2\n",
    "import math\n",
    "gpus = tf.config.list_physical_devices('GPU')\n",
    "if gpus:\n",
    "  try:\n",
    "    # Currently, memory growth needs to be the same across GPUs\n",
    "    for gpu in gpus:\n",
    "      tf.config.experimental.set_memory_growth(gpu, True)\n",
    "    logical_gpus = tf.config.experimental.list_logical_devices('GPU')\n",
    "    print(len(gpus), \"Physical GPUs,\", len(logical_gpus), \"Logical GPUs\")\n",
    "  except RuntimeError as e:\n",
    "    # Memory growth must be set before GPUs have been initialized\n",
    "    print(e)"
   ]
  },
  {
   "cell_type": "markdown",
   "metadata": {},
   "source": [
    "# Import a pre-trained model from keras using the weights from ImageNet"
   ]
  },
  {
   "cell_type": "code",
   "execution_count": 5,
   "metadata": {
    "colab": {
     "base_uri": "https://localhost:8080/"
    },
    "executionInfo": {
     "elapsed": 1144,
     "status": "ok",
     "timestamp": 1628937331421,
     "user": {
      "displayName": "Diana Prahoveanu",
      "photoUrl": "",
      "userId": "09455902628397953770"
     },
     "user_tz": -180
    },
    "id": "IycpSDBDpUAh",
    "outputId": "1c924367-90e7-4549-ca41-b105f7ee2276"
   },
   "outputs": [
    {
     "name": "stdout",
     "output_type": "stream",
     "text": [
      "Downloading data from https://storage.googleapis.com/tensorflow/keras-applications/vgg19/vgg19_weights_tf_dim_ordering_tf_kernels_notop.h5\n",
      "80142336/80134624 [==============================] - 0s 0us/step\n"
     ]
    }
   ],
   "source": [
    "img_width, img_height = 224, 224 #Set the image size\n",
    "#Check the picture layout\n",
    "if K.image_data_format() == 'channels_first':\n",
    "    input_shape = (3, img_width, img_height)\n",
    "else:\n",
    "    input_shape = (img_width, img_height, 3)\n",
    "#Save the imported model in variable called base_model\n",
    "base_model=tf.keras.applications.InceptionV3(\n",
    "    include_top=False,\n",
    "    input_shape=input_shape,\n",
    "    weights=\"imagenet\",\n",
    ")\n",
    "\n",
    "#Freez the layers in order to not lose the weights\n",
    "for layer in base_model.layers:\n",
    "        layer.trainable = False\n",
    "\n",
    "\n",
    "\n",
    "\n",
    "        "
   ]
  },
  {
   "cell_type": "markdown",
   "metadata": {},
   "source": [
    "# Use Image data generator for data augmentation"
   ]
  },
  {
   "cell_type": "code",
   "execution_count": 6,
   "metadata": {
    "colab": {
     "base_uri": "https://localhost:8080/"
    },
    "executionInfo": {
     "elapsed": 5631,
     "status": "ok",
     "timestamp": 1628937337051,
     "user": {
      "displayName": "Diana Prahoveanu",
      "photoUrl": "",
      "userId": "09455902628397953770"
     },
     "user_tz": -180
    },
    "id": "-fSTNYrJpUAh",
    "outputId": "3d3f22bb-180e-4de6-f69a-b5d392e0742a"
   },
   "outputs": [
    {
     "name": "stdout",
     "output_type": "stream",
     "text": [
      "Found 227124 images belonging to 7 classes.\n",
      "Found 56777 images belonging to 7 classes.\n"
     ]
    },
    {
     "data": {
      "text/plain": [
       "{'Anger': 0,\n",
       " 'Disgust': 1,\n",
       " 'Fear': 2,\n",
       " 'Happy': 3,\n",
       " 'Neutral': 4,\n",
       " 'Sad': 5,\n",
       " 'Surprise': 6}"
      ]
     },
     "execution_count": 6,
     "metadata": {
      "tags": []
     },
     "output_type": "execute_result"
    }
   ],
   "source": [
    "train_data_dir = '/content/Training_data_c' #Instantiate the path for dataset \n",
    "batch_size = 128 #Set the batch size\n",
    "\n",
    "#Set the variables for data augmentation\n",
    "train_datagen = ImageDataGenerator(\n",
    "       rescale=1./255,\n",
    "        zoom_range=0.1,\n",
    "        validation_split=0.2,\n",
    "        rotation_range=5,\n",
    "        horizontal_flip=True)\n",
    "#Apply data augmentation on training set\n",
    "training_set = train_datagen.flow_from_directory(\n",
    "        train_data_dir,\n",
    "        target_size=(img_width, img_height),\n",
    "        batch_size=batch_size,\n",
    "        shuffle = True,\n",
    "        subset='training',\n",
    "        class_mode='categorical')\n",
    " \n",
    "#Apply data augmentation on validation set\n",
    "test_set= train_datagen.flow_from_directory(\n",
    "        train_data_dir,\n",
    "        target_size=(img_width, img_height),\n",
    "        batch_size=batch_size,\n",
    "        subset='validation',\n",
    "        shuffle = False,\n",
    "        class_mode='categorical')\n",
    " \n",
    "\n",
    "test_set.class_indices #Print the classes"
   ]
  },
  {
   "cell_type": "markdown",
   "metadata": {},
   "source": [
    "# Add the layers and parameters to the model"
   ]
  },
  {
   "cell_type": "code",
   "execution_count": 7,
   "metadata": {
    "colab": {
     "base_uri": "https://localhost:8080/"
    },
    "executionInfo": {
     "elapsed": 5,
     "status": "ok",
     "timestamp": 1628937337052,
     "user": {
      "displayName": "Diana Prahoveanu",
      "photoUrl": "",
      "userId": "09455902628397953770"
     },
     "user_tz": -180
    },
    "id": "OVUbDoOBpUAi",
    "outputId": "eabbe45e-9567-4209-a502-006e44f82add"
   },
   "outputs": [
    {
     "name": "stdout",
     "output_type": "stream",
     "text": [
      "Model: \"model\"\n",
      "_________________________________________________________________\n",
      "Layer (type)                 Output Shape              Param #   \n",
      "=================================================================\n",
      "input_1 (InputLayer)         [(None, 224, 224, 3)]     0         \n",
      "_________________________________________________________________\n",
      "block1_conv1 (Conv2D)        (None, 224, 224, 64)      1792      \n",
      "_________________________________________________________________\n",
      "block1_conv2 (Conv2D)        (None, 224, 224, 64)      36928     \n",
      "_________________________________________________________________\n",
      "block1_pool (MaxPooling2D)   (None, 112, 112, 64)      0         \n",
      "_________________________________________________________________\n",
      "block2_conv1 (Conv2D)        (None, 112, 112, 128)     73856     \n",
      "_________________________________________________________________\n",
      "block2_conv2 (Conv2D)        (None, 112, 112, 128)     147584    \n",
      "_________________________________________________________________\n",
      "block2_pool (MaxPooling2D)   (None, 56, 56, 128)       0         \n",
      "_________________________________________________________________\n",
      "block3_conv1 (Conv2D)        (None, 56, 56, 256)       295168    \n",
      "_________________________________________________________________\n",
      "block3_conv2 (Conv2D)        (None, 56, 56, 256)       590080    \n",
      "_________________________________________________________________\n",
      "block3_conv3 (Conv2D)        (None, 56, 56, 256)       590080    \n",
      "_________________________________________________________________\n",
      "block3_conv4 (Conv2D)        (None, 56, 56, 256)       590080    \n",
      "_________________________________________________________________\n",
      "block3_pool (MaxPooling2D)   (None, 28, 28, 256)       0         \n",
      "_________________________________________________________________\n",
      "block4_conv1 (Conv2D)        (None, 28, 28, 512)       1180160   \n",
      "_________________________________________________________________\n",
      "block4_conv2 (Conv2D)        (None, 28, 28, 512)       2359808   \n",
      "_________________________________________________________________\n",
      "block4_conv3 (Conv2D)        (None, 28, 28, 512)       2359808   \n",
      "_________________________________________________________________\n",
      "block4_conv4 (Conv2D)        (None, 28, 28, 512)       2359808   \n",
      "_________________________________________________________________\n",
      "block4_pool (MaxPooling2D)   (None, 14, 14, 512)       0         \n",
      "_________________________________________________________________\n",
      "block5_conv1 (Conv2D)        (None, 14, 14, 512)       2359808   \n",
      "_________________________________________________________________\n",
      "block5_conv2 (Conv2D)        (None, 14, 14, 512)       2359808   \n",
      "_________________________________________________________________\n",
      "block5_conv3 (Conv2D)        (None, 14, 14, 512)       2359808   \n",
      "_________________________________________________________________\n",
      "block5_conv4 (Conv2D)        (None, 14, 14, 512)       2359808   \n",
      "_________________________________________________________________\n",
      "block5_pool (MaxPooling2D)   (None, 7, 7, 512)         0         \n",
      "_________________________________________________________________\n",
      "global_max_pooling2d (Global (None, 512)               0         \n",
      "_________________________________________________________________\n",
      "flatten (Flatten)            (None, 512)               0         \n",
      "_________________________________________________________________\n",
      "dense (Dense)                (None, 512)               262656    \n",
      "_________________________________________________________________\n",
      "batch_normalization_2 (Batch (None, 512)               2048      \n",
      "_________________________________________________________________\n",
      "re_lu_2 (ReLU)               (None, 512)               0         \n",
      "_________________________________________________________________\n",
      "dense_1 (Dense)              (None, 256)               131328    \n",
      "_________________________________________________________________\n",
      "batch_normalization_3 (Batch (None, 256)               1024      \n",
      "_________________________________________________________________\n",
      "re_lu_3 (ReLU)               (None, 256)               0         \n",
      "_________________________________________________________________\n",
      "dense_2 (Dense)              (None, 7)                 1799      \n",
      "=================================================================\n",
      "Total params: 20,423,239\n",
      "Trainable params: 397,319\n",
      "Non-trainable params: 20,025,920\n",
      "_________________________________________________________________\n"
     ]
    }
   ],
   "source": [
    "num_classes = 7 #Set the number of output neurons\n",
    "                     \n",
    "base_input=base_model.layers[0].input #Save the layers of the pre-trained model\n",
    "base_output=base_model.layers[-1].output #Save the output of the last layer\n",
    "\n",
    "final_output=layers.Conv2D(128, kernel_size=(3,3), padding=\"same\")(base_output)#Add convolutional layer with 128 neurons and 3*3 filter\n",
    "final_output=layers.BatchNormalization()(final_output)#Add batch normalization\n",
    "final_output=tf.keras.layers.ReLU()(final_output)#Add activation function\n",
    "\n",
    "final_output=layers.Conv2D(128, kernel_size=(3,3), padding=\"same\")(final_output)#Add convolutional layer with 128 neurons and 3*3 filter\n",
    "final_output=layers.BatchNormalization()(final_output)#Add batch normalization\n",
    "final_output=tf.keras.layers.ReLU()(final_output)#Add activation function\n",
    "\n",
    "final_output=layers.GlobalMaxPooling2D(data_format='channels_last')(final_output) #Add GlobalMaxPoolig layer\n",
    "    \n",
    "final_output=layers.Flatten()(final_output) # Add Flatten layer\n",
    "\n",
    "final_output=layers.Dense(512)(final_output) #Add fully conected layer with 512 neurons\n",
    "final_output=layers.BatchNormalization()(final_output)#Add batch normalization\n",
    "final_output=tf.keras.layers.ReLU()(final_output)#Add activation function\n",
    "final_output=layers.Dense(256)(final_output) #Add fully connected layer with 256 neurons\n",
    "final_output=layers.BatchNormalization()(final_output)#Add batch normalization\n",
    "final_output=tf.keras.layers.ReLU()(final_output)#Add activation function\n",
    "\n",
    "final_output=layers.Dense(num_classes,activation='softmax')(final_output)#Add output layer with neurons for each class\n",
    "\n",
    "\n",
    "new_model=tf.keras.Model(inputs=base_input,outputs=final_output)#Add the new layers to the model\n",
    "new_model.compile(optimizer='adam', loss=tf.keras.losses.CategoricalCrossentropy(),metrics=['accuracy'])#Compile the model using adam optimizer\n",
    "new_model.summary()# Print the model"
   ]
  },
  {
   "cell_type": "markdown",
   "metadata": {},
   "source": [
    "# Train the model for ten epochs and save the best weights using ModelCheckpoint"
   ]
  },
  {
   "cell_type": "code",
   "execution_count": 8,
   "metadata": {
    "colab": {
     "base_uri": "https://localhost:8080/"
    },
    "executionInfo": {
     "elapsed": 38072641,
     "status": "ok",
     "timestamp": 1628975409690,
     "user": {
      "displayName": "Diana Prahoveanu",
      "photoUrl": "",
      "userId": "09455902628397953770"
     },
     "user_tz": -180
    },
    "id": "Kif1LdYKpUAj",
    "outputId": "64d332f1-a395-4da1-edf3-500f70c54d70",
    "scrolled": false
   },
   "outputs": [
    {
     "name": "stdout",
     "output_type": "stream",
     "text": [
      "Epoch 1/10\n",
      "1774/1774 [==============================] - 3787s 2s/step - loss: 1.1492 - accuracy: 0.5747 - val_loss: 1.1468 - val_accuracy: 0.5729\n",
      "Epoch 2/10\n",
      "1774/1774 [==============================] - 3804s 2s/step - loss: 1.0833 - accuracy: 0.5979 - val_loss: 1.1005 - val_accuracy: 0.5939\n",
      "Epoch 3/10\n",
      "1774/1774 [==============================] - 3778s 2s/step - loss: 1.0577 - accuracy: 0.6069 - val_loss: 1.1036 - val_accuracy: 0.5915\n",
      "Epoch 4/10\n",
      "1774/1774 [==============================] - 3757s 2s/step - loss: 1.0381 - accuracy: 0.6143 - val_loss: 1.1796 - val_accuracy: 0.5610\n",
      "Epoch 5/10\n",
      "1774/1774 [==============================] - 3781s 2s/step - loss: 1.0209 - accuracy: 0.6205 - val_loss: 1.1446 - val_accuracy: 0.5657\n",
      "Epoch 6/10\n",
      "1774/1774 [==============================] - 3768s 2s/step - loss: 1.0055 - accuracy: 0.6269 - val_loss: 1.1765 - val_accuracy: 0.5658\n",
      "Epoch 7/10\n",
      "1774/1774 [==============================] - 3731s 2s/step - loss: 0.9905 - accuracy: 0.6320 - val_loss: 1.0824 - val_accuracy: 0.5976\n",
      "Epoch 8/10\n",
      "1774/1774 [==============================] - 3837s 2s/step - loss: 0.9795 - accuracy: 0.6357 - val_loss: 1.0870 - val_accuracy: 0.5977\n",
      "Epoch 9/10\n",
      "1774/1774 [==============================] - 3805s 2s/step - loss: 0.9683 - accuracy: 0.6405 - val_loss: 1.0969 - val_accuracy: 0.5971\n",
      "Epoch 10/10\n",
      "1774/1774 [==============================] - 3770s 2s/step - loss: 0.9565 - accuracy: 0.6443 - val_loss: 1.1308 - val_accuracy: 0.5780\n"
     ]
    }
   ],
   "source": [
    "model = new_model\n",
    "#Create a folder with the best models\n",
    "directory='/content/drive/MyDrive/Emotion_recognition/VGG19/Checkpoint_Vgg19-V7'\n",
    "name='Model'\n",
    "saved = os.path.join(directory, name + \"-{epoch:02d}.h5\")\n",
    "#Set up the ModelChepoint\n",
    "callback=tf.keras.callbacks.ModelCheckpoint(\n",
    "    filepath=saved, monitor='val_loss', verbose=0, save_best_only=True,\n",
    "    save_weights_only=False, mode='min', save_freq='epoch'\n",
    ")\n",
    "#Train the model\n",
    "history=model.fit(training_set,\n",
    "        epochs=10,\n",
    "        callbacks=callback,\n",
    "        steps_per_epoch=227124 // batch_size,\n",
    "        validation_data=test_set,\n",
    "        validation_steps= 56777 // batch_size)"
   ]
  },
  {
   "cell_type": "markdown",
   "metadata": {},
   "source": [
    "# Plot the accuracy and cross-entropy diagrams"
   ]
  },
  {
   "cell_type": "code",
   "execution_count": 9,
   "metadata": {
    "colab": {
     "base_uri": "https://localhost:8080/",
     "height": 447
    },
    "executionInfo": {
     "elapsed": 1037,
     "status": "ok",
     "timestamp": 1628975410720,
     "user": {
      "displayName": "Diana Prahoveanu",
      "photoUrl": "",
      "userId": "09455902628397953770"
     },
     "user_tz": -180
    },
    "id": "JpOeGehrpUAk",
    "outputId": "f673cd55-d156-48ad-e91d-9ce50e1e24fe"
   },
   "outputs": [
    {
     "data": {
      "image/png": "[encoded data removed]",
      "text/plain": [
       "<Figure size 1440x720 with 2 Axes>"
      ]
     },
     "metadata": {
      "needs_background": "light",
      "tags": []
     },
     "output_type": "display_data"
    }
   ],
   "source": [
    "acc = history.history['accuracy']\n",
    "val_acc = history.history['val_accuracy']\n",
    "\n",
    "loss = history.history['loss']\n",
    "val_loss = history.history['val_loss']\n",
    "\n",
    "plt.figure(figsize=(20, 10))\n",
    "plt.subplot(2, 1, 1)\n",
    "plt.plot(acc, label='Training Accuracy')\n",
    "plt.plot(val_acc, label='Validation Accuracy')\n",
    "plt.legend(loc='lower right')\n",
    "plt.ylabel('Accuracy')\n",
    "plt.ylim([min(plt.ylim()),1])\n",
    "plt.title('Training and Validation Accuracy')\n",
    "\n",
    "plt.subplot(2, 1, 2)\n",
    "plt.plot(loss, label='Training Loss')\n",
    "plt.plot(val_loss, label='Validation Loss')\n",
    "plt.legend(loc='upper right')\n",
    "plt.ylabel('Cross Entropy')\n",
    "plt.ylim([0,4.0])\n",
    "plt.title('Training and Validation Loss')\n",
    "plt.xlabel('epoch')\n",
    "plt.show()"
   ]
  }
 ],
 "metadata": {
  "accelerator": "GPU",
  "colab": {
   "collapsed_sections": [],
   "name": "VGG19-V7.ipynb",
   "provenance": []
  },
  "kernelspec": {
   "display_name": "Python 3",
   "language": "python",
   "name": "python3"
  },
  "language_info": {
   "codemirror_mode": {
    "name": "ipython",
    "version": 3
   },
   "file_extension": ".py",
   "mimetype": "text/x-python",
   "name": "python",
   "nbconvert_exporter": "python",
   "pygments_lexer": "ipython3",
   "version": "3.8.5"
  }
 },
 "nbformat": 4,
 "nbformat_minor": 1
}
