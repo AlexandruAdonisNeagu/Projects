{
 "cells": [
  {
   "cell_type": "markdown",
   "metadata": {},
   "source": [
    "# Import all the libraries required and cofiguring the GPU"
   ]
  },
  {
   "cell_type": "code",
   "execution_count": 1,
   "metadata": {
    "colab": {
     "base_uri": "https://localhost:8080/"
    },
    "executionInfo": {
     "elapsed": 9390,
     "status": "ok",
     "timestamp": 1629053395559,
     "user": {
      "displayName": "Diana Prahoveanu",
      "photoUrl": "",
      "userId": "09455902628397953770"
     },
     "user_tz": -180
    },
    "id": "q4da_7OqpUAe",
    "outputId": "c8a0f177-0801-437f-f439-ee6a3c795c6f"
   },
   "outputs": [
    {
     "name": "stdout",
     "output_type": "stream",
     "text": [
      "\u001b[?25l\r",
      "\u001b[K     |███▍                            | 10 kB 28.9 MB/s eta 0:00:01\r",
      "\u001b[K     |██████▉                         | 20 kB 33.0 MB/s eta 0:00:01\r",
      "\u001b[K     |██████████▏                     | 30 kB 37.3 MB/s eta 0:00:01\r",
      "\u001b[K     |█████████████▋                  | 40 kB 27.4 MB/s eta 0:00:01\r",
      "\u001b[K     |█████████████████               | 51 kB 18.3 MB/s eta 0:00:01\r",
      "\u001b[K     |████████████████████▍           | 61 kB 14.8 MB/s eta 0:00:01\r",
      "\u001b[K     |███████████████████████▊        | 71 kB 13.7 MB/s eta 0:00:01\r",
      "\u001b[K     |███████████████████████████▏    | 81 kB 15.1 MB/s eta 0:00:01\r",
      "\u001b[K     |██████████████████████████████▋ | 92 kB 14.4 MB/s eta 0:00:01\r",
      "\u001b[K     |████████████████████████████████| 96 kB 3.9 MB/s \n",
      "\u001b[?25h1 Physical GPUs, 1 Logical GPUs\n"
     ]
    }
   ],
   "source": [
    "import matplotlib.pyplot as plt\n",
    "import numpy as np\n",
    "import os\n",
    "import tensorflow as tf\n",
    "from tensorflow import keras\n",
    "from tensorflow.keras import backend as K\n",
    "from tensorflow.keras import layers,models\n",
    "from tensorflow.keras.models import Model\n",
    "from tensorflow.keras.preprocessing.image import ImageDataGenerator\n",
    "from tensorflow.keras.regularizers import l2\n",
    "import math\n",
    "gpus = tf.config.list_physical_devices('GPU')\n",
    "if gpus:\n",
    "  try:\n",
    "    # Currently, memory growth needs to be the same across GPUs\n",
    "    for gpu in gpus:\n",
    "      tf.config.experimental.set_memory_growth(gpu, True)\n",
    "    logical_gpus = tf.config.experimental.list_logical_devices('GPU')\n",
    "    print(len(gpus), \"Physical GPUs,\", len(logical_gpus), \"Logical GPUs\")\n",
    "  except RuntimeError as e:\n",
    "    # Memory growth must be set before GPUs have been initialized\n",
    "    print(e)"
   ]
  },
  {
   "cell_type": "markdown",
   "metadata": {},
   "source": [
    "# Import a pre-trained model from keras using the weights from ImageNet"
   ]
  },
  {
   "cell_type": "code",
   "execution_count": 5,
   "metadata": {
    "colab": {
     "base_uri": "https://localhost:8080/"
    },
    "executionInfo": {
     "elapsed": 1651,
     "status": "ok",
     "timestamp": 1629053598234,
     "user": {
      "displayName": "Diana Prahoveanu",
      "photoUrl": "",
      "userId": "09455902628397953770"
     },
     "user_tz": -180
    },
    "id": "IycpSDBDpUAh",
    "outputId": "204613ca-29fc-4b05-8322-01c89543c4ed"
   },
   "outputs": [
    {
     "name": "stdout",
     "output_type": "stream",
     "text": [
      "Downloading data from https://storage.googleapis.com/tensorflow/keras-applications/vgg19/vgg19_weights_tf_dim_ordering_tf_kernels_notop.h5\n",
      "80142336/80134624 [==============================] - 1s 0us/step\n"
     ]
    }
   ],
   "source": [
    "img_width, img_height = 224, 224 #Set the image size\n",
    "#Check the picture layout\n",
    "if K.image_data_format() == 'channels_first':\n",
    "    input_shape = (3, img_width, img_height)\n",
    "else:\n",
    "    input_shape = (img_width, img_height, 3)\n",
    "#Save the imported model in variable called base_model\n",
    "base_model=tf.keras.applications.VGG19(\n",
    "    include_top=False,\n",
    "    input_shape=input_shape,\n",
    "    weights=\"imagenet\",\n",
    ")\n",
    "\n",
    "#Freez the layers in order to not lose the weights\n",
    "for layer in base_model.layers:\n",
    "        layer.trainable = False\n",
    "\n",
    "\n",
    "\n",
    "\n",
    "        "
   ]
  },
  {
   "cell_type": "markdown",
   "metadata": {},
   "source": [
    "# Use Image data generator for data augmentation"
   ]
  },
  {
   "cell_type": "code",
   "execution_count": 6,
   "metadata": {
    "colab": {
     "base_uri": "https://localhost:8080/"
    },
    "executionInfo": {
     "elapsed": 6293,
     "status": "ok",
     "timestamp": 1629053604525,
     "user": {
      "displayName": "Diana Prahoveanu",
      "photoUrl": "",
      "userId": "09455902628397953770"
     },
     "user_tz": -180
    },
    "id": "-fSTNYrJpUAh",
    "outputId": "4113d302-abef-4411-eea5-c13131562fe0"
   },
   "outputs": [
    {
     "name": "stdout",
     "output_type": "stream",
     "text": [
      "Found 227124 images belonging to 7 classes.\n",
      "Found 56777 images belonging to 7 classes.\n"
     ]
    },
    {
     "data": {
      "text/plain": [
       "{'Anger': 0,\n",
       " 'Disgust': 1,\n",
       " 'Fear': 2,\n",
       " 'Happy': 3,\n",
       " 'Neutral': 4,\n",
       " 'Sad': 5,\n",
       " 'Surprise': 6}"
      ]
     },
     "execution_count": 6,
     "metadata": {
      "tags": []
     },
     "output_type": "execute_result"
    }
   ],
   "source": [
    "train_data_dir = '/content/Training_data_c' #Instantiate the path for dataset \n",
    "batch_size = 128 #Set the batch size\n",
    "\n",
    "#Set the variables for data augmentation\n",
    "train_datagen = ImageDataGenerator(\n",
    "       rescale=1./255,\n",
    "        zoom_range=0.1,\n",
    "        validation_split=0.2,\n",
    "        rotation_range=5,\n",
    "        horizontal_flip=True)\n",
    "#Apply data augmentation on training set\n",
    "training_set = train_datagen.flow_from_directory(\n",
    "        train_data_dir,\n",
    "        target_size=(img_width, img_height),\n",
    "        batch_size=batch_size,\n",
    "        shuffle = True,\n",
    "        subset='training',\n",
    "        class_mode='categorical')\n",
    " \n",
    "#Apply data augmentation on validation set\n",
    "test_set= train_datagen.flow_from_directory(\n",
    "        train_data_dir,\n",
    "        target_size=(img_width, img_height),\n",
    "        batch_size=batch_size,\n",
    "        subset='validation',\n",
    "        shuffle = False,\n",
    "        class_mode='categorical')\n",
    " \n",
    "\n",
    "test_set.class_indices #Print the classes"
   ]
  },
  {
   "cell_type": "markdown",
   "metadata": {},
   "source": [
    "# Add the layers and parameters to the model\n"
   ]
  },
  {
   "cell_type": "code",
   "execution_count": 7,
   "metadata": {
    "colab": {
     "base_uri": "https://localhost:8080/"
    },
    "executionInfo": {
     "elapsed": 4,
     "status": "ok",
     "timestamp": 1629053604525,
     "user": {
      "displayName": "Diana Prahoveanu",
      "photoUrl": "",
      "userId": "09455902628397953770"
     },
     "user_tz": -180
    },
    "id": "OVUbDoOBpUAi",
    "outputId": "0dd7526a-00de-4af9-fd2e-ff0bc42aa0e0"
   },
   "outputs": [
    {
     "name": "stdout",
     "output_type": "stream",
     "text": [
      "Model: \"model\"\n",
      "_________________________________________________________________\n",
      "Layer (type)                 Output Shape              Param #   \n",
      "=================================================================\n",
      "input_1 (InputLayer)         [(None, 224, 224, 3)]     0         \n",
      "_________________________________________________________________\n",
      "block1_conv1 (Conv2D)        (None, 224, 224, 64)      1792      \n",
      "_________________________________________________________________\n",
      "block1_conv2 (Conv2D)        (None, 224, 224, 64)      36928     \n",
      "_________________________________________________________________\n",
      "block1_pool (MaxPooling2D)   (None, 112, 112, 64)      0         \n",
      "_________________________________________________________________\n",
      "block2_conv1 (Conv2D)        (None, 112, 112, 128)     73856     \n",
      "_________________________________________________________________\n",
      "block2_conv2 (Conv2D)        (None, 112, 112, 128)     147584    \n",
      "_________________________________________________________________\n",
      "block2_pool (MaxPooling2D)   (None, 56, 56, 128)       0         \n",
      "_________________________________________________________________\n",
      "block3_conv1 (Conv2D)        (None, 56, 56, 256)       295168    \n",
      "_________________________________________________________________\n",
      "block3_conv2 (Conv2D)        (None, 56, 56, 256)       590080    \n",
      "_________________________________________________________________\n",
      "block3_conv3 (Conv2D)        (None, 56, 56, 256)       590080    \n",
      "_________________________________________________________________\n",
      "block3_conv4 (Conv2D)        (None, 56, 56, 256)       590080    \n",
      "_________________________________________________________________\n",
      "block3_pool (MaxPooling2D)   (None, 28, 28, 256)       0         \n",
      "_________________________________________________________________\n",
      "block4_conv1 (Conv2D)        (None, 28, 28, 512)       1180160   \n",
      "_________________________________________________________________\n",
      "block4_conv2 (Conv2D)        (None, 28, 28, 512)       2359808   \n",
      "_________________________________________________________________\n",
      "block4_conv3 (Conv2D)        (None, 28, 28, 512)       2359808   \n",
      "_________________________________________________________________\n",
      "block4_conv4 (Conv2D)        (None, 28, 28, 512)       2359808   \n",
      "_________________________________________________________________\n",
      "block4_pool (MaxPooling2D)   (None, 14, 14, 512)       0         \n",
      "_________________________________________________________________\n",
      "block5_conv1 (Conv2D)        (None, 14, 14, 512)       2359808   \n",
      "_________________________________________________________________\n",
      "block5_conv2 (Conv2D)        (None, 14, 14, 512)       2359808   \n",
      "_________________________________________________________________\n",
      "block5_conv3 (Conv2D)        (None, 14, 14, 512)       2359808   \n",
      "_________________________________________________________________\n",
      "block5_conv4 (Conv2D)        (None, 14, 14, 512)       2359808   \n",
      "_________________________________________________________________\n",
      "block5_pool (MaxPooling2D)   (None, 7, 7, 512)         0         \n",
      "_________________________________________________________________\n",
      "conv2d (Conv2D)              (None, 7, 7, 128)         589952    \n",
      "_________________________________________________________________\n",
      "batch_normalization (BatchNo (None, 7, 7, 128)         512       \n",
      "_________________________________________________________________\n",
      "re_lu (ReLU)                 (None, 7, 7, 128)         0         \n",
      "_________________________________________________________________\n",
      "conv2d_1 (Conv2D)            (None, 7, 7, 128)         147584    \n",
      "_________________________________________________________________\n",
      "batch_normalization_1 (Batch (None, 7, 7, 128)         512       \n",
      "_________________________________________________________________\n",
      "re_lu_1 (ReLU)               (None, 7, 7, 128)         0         \n",
      "_________________________________________________________________\n",
      "global_max_pooling2d (Global (None, 128)               0         \n",
      "_________________________________________________________________\n",
      "dropout (Dropout)            (None, 128)               0         \n",
      "_________________________________________________________________\n",
      "flatten (Flatten)            (None, 128)               0         \n",
      "_________________________________________________________________\n",
      "dense (Dense)                (None, 512)               66048     \n",
      "_________________________________________________________________\n",
      "batch_normalization_2 (Batch (None, 512)               2048      \n",
      "_________________________________________________________________\n",
      "re_lu_2 (ReLU)               (None, 512)               0         \n",
      "_________________________________________________________________\n",
      "dense_1 (Dense)              (None, 256)               131328    \n",
      "_________________________________________________________________\n",
      "batch_normalization_3 (Batch (None, 256)               1024      \n",
      "_________________________________________________________________\n",
      "re_lu_3 (ReLU)               (None, 256)               0         \n",
      "_________________________________________________________________\n",
      "dense_2 (Dense)              (None, 7)                 1799      \n",
      "=================================================================\n",
      "Total params: 20,965,191\n",
      "Trainable params: 938,759\n",
      "Non-trainable params: 20,026,432\n",
      "_________________________________________________________________\n"
     ]
    }
   ],
   "source": [
    "num_classes = 7 #Set the number of output neurons\n",
    "                     \n",
    "base_input=base_model.layers[0].input #Save the layers of the pre-trained model\n",
    "base_output=base_model.layers[-1].output #Save the output of the last layer\n",
    "\n",
    "final_output=layers.Conv2D(128, kernel_size=(3,3), padding=\"same\",kernel_regularizer='l2' )(base_output)#Add convolutional layer with 128 neurons 3*3 filter and l2 regularization\n",
    "final_output=layers.BatchNormalization()(final_output)#Add batch normalization\n",
    "final_output=tf.keras.layers.ReLU()(final_output)#Add activation function\n",
    "\n",
    "final_output=layers.Conv2D(128, kernel_size=(3,3), padding=\"same\",kernel_regularizer='l2' )(final_output)#Add convolutional layer with 128 neurons, 3*3 filter and l2 regularization\n",
    "final_output=layers.BatchNormalization()(final_output)#Add batch normalization\n",
    "final_output=tf.keras.layers.ReLU()(final_output)#Add activation function\n",
    "\n",
    "final_output=layers.GlobalMaxPooling2D(data_format='channels_last')(final_output) #Add GlobalMaxPoolig layer\n",
    "final_output=layers.Dropout(0.2)(final_output) #Add a Dropout layer\n",
    "final_output=layers.Flatten()(final_output) # Add Flatten layer\n",
    "\n",
    "final_output=layers.Dense(512,kernel_regularizer='l2' )(final_output) #Add fully conected layer with 512 neurons and l2 regularization\n",
    "final_output=layers.BatchNormalization()(final_output)#Add batch normalization\n",
    "final_output=tf.keras.layers.ReLU()(final_output)#Add activation function\n",
    "final_output=layers.Dense(256,kernel_regularizer='l2' )(final_output) #Add fully connected layer with 256 neurons ad l2 regurarization\n",
    "final_output=layers.BatchNormalization()(final_output)#Add batch normalization\n",
    "final_output=tf.keras.layers.ReLU()(final_output)#Add activation function\n",
    "\n",
    "final_output=layers.Dense(num_classes,activation='softmax')(final_output)#Add output layer with neurons for each class\n",
    "\n",
    "\n",
    "new_model=tf.keras.Model(inputs=base_input,outputs=final_output)#Add the new layers to the model\n",
    "new_model.compile(optimizer='adam', loss=tf.keras.losses.CategoricalCrossentropy(),metrics=['accuracy'])#Compile the model using adam optimizer\n",
    "new_model.summary()# Print the model"
   ]
  },
  {
   "cell_type": "markdown",
   "metadata": {},
   "source": [
    "# Train the model for ten epochs and save the best weights using ModelCheckpoint"
   ]
  },
  {
   "cell_type": "code",
   "execution_count": 8,
   "metadata": {
    "colab": {
     "base_uri": "https://localhost:8080/"
    },
    "executionInfo": {
     "elapsed": 39355054,
     "status": "ok",
     "timestamp": 1629092959577,
     "user": {
      "displayName": "Diana Prahoveanu",
      "photoUrl": "",
      "userId": "09455902628397953770"
     },
     "user_tz": -180
    },
    "id": "Kif1LdYKpUAj",
    "outputId": "ca250d39-a19e-4262-925d-a527cbaa5612",
    "scrolled": false
   },
   "outputs": [
    {
     "name": "stdout",
     "output_type": "stream",
     "text": [
      "Epoch 1/10\n",
      "1774/1774 [==============================] - 3932s 2s/step - loss: 1.7070 - accuracy: 0.6144 - val_loss: 1.2457 - val_accuracy: 0.6241\n",
      "Epoch 2/10\n",
      "1774/1774 [==============================] - 3884s 2s/step - loss: 1.1717 - accuracy: 0.6332 - val_loss: 1.4608 - val_accuracy: 0.5231\n",
      "Epoch 3/10\n",
      "1774/1774 [==============================] - 3900s 2s/step - loss: 1.1288 - accuracy: 0.6403 - val_loss: 1.1504 - val_accuracy: 0.6348\n",
      "Epoch 4/10\n",
      "1774/1774 [==============================] - 3872s 2s/step - loss: 1.1067 - accuracy: 0.6440 - val_loss: 1.1289 - val_accuracy: 0.6454\n",
      "Epoch 5/10\n",
      "1774/1774 [==============================] - 3919s 2s/step - loss: 1.0848 - accuracy: 0.6474 - val_loss: 1.2710 - val_accuracy: 0.5680\n",
      "Epoch 6/10\n",
      "1774/1774 [==============================] - 3868s 2s/step - loss: 1.0687 - accuracy: 0.6498 - val_loss: 1.1590 - val_accuracy: 0.6057\n",
      "Epoch 7/10\n",
      "1774/1774 [==============================] - 3970s 2s/step - loss: 1.0625 - accuracy: 0.6505 - val_loss: 1.0912 - val_accuracy: 0.6421\n",
      "Epoch 8/10\n",
      "1774/1774 [==============================] - 3925s 2s/step - loss: 1.0574 - accuracy: 0.6522 - val_loss: 1.1253 - val_accuracy: 0.6233\n",
      "Epoch 9/10\n",
      "1774/1774 [==============================] - 3939s 2s/step - loss: 1.0533 - accuracy: 0.6526 - val_loss: 1.1752 - val_accuracy: 0.6058\n",
      "Epoch 10/10\n",
      "1774/1774 [==============================] - 3917s 2s/step - loss: 1.0490 - accuracy: 0.6533 - val_loss: 1.2152 - val_accuracy: 0.5644\n"
     ]
    }
   ],
   "source": [
    "model = new_model\n",
    "#Create a folder with the best models\n",
    "directory='/content/drive/MyDrive/Emotion_recognition/VGG19/Checkpoint_Vgg19-V8'\n",
    "name='Model'\n",
    "saved = os.path.join(directory, name + \"-{epoch:02d}.h5\")\n",
    "#Set up the ModelChepoint\n",
    "callback=tf.keras.callbacks.ModelCheckpoint(\n",
    "    filepath=saved, monitor='val_loss', verbose=0, save_best_only=True,\n",
    "    save_weights_only=False, mode='min', save_freq='epoch'\n",
    ")\n",
    "#Train the model\n",
    "history=model.fit(training_set,\n",
    "        epochs=10,\n",
    "        callbacks=callback,\n",
    "        steps_per_epoch=227124 // batch_size,\n",
    "        validation_data=test_set,\n",
    "        validation_steps= 56777 // batch_size)"
   ]
  },
  {
   "cell_type": "markdown",
   "metadata": {},
   "source": [
    "# Plot the accuracy and cross-entropy diagrams"
   ]
  },
  {
   "cell_type": "code",
   "execution_count": 9,
   "metadata": {
    "colab": {
     "base_uri": "https://localhost:8080/",
     "height": 593
    },
    "executionInfo": {
     "elapsed": 937,
     "status": "ok",
     "timestamp": 1629092960511,
     "user": {
      "displayName": "Diana Prahoveanu",
      "photoUrl": "",
      "userId": "09455902628397953770"
     },
     "user_tz": -180
    },
    "id": "JpOeGehrpUAk",
    "outputId": "e89e5faf-3607-458c-9086-1e0d4822836c"
   },
   "outputs": [
    {
     "data": {
      "image/png": "[encoded data removed]",
      "text/plain": [
       "<Figure size 1440x720 with 2 Axes>"
      ]
     },
     "metadata": {
      "needs_background": "light",
      "tags": []
     },
     "output_type": "display_data"
    }
   ],
   "source": [
    "acc = history.history['accuracy']\n",
    "val_acc = history.history['val_accuracy']\n",
    "\n",
    "loss = history.history['loss']\n",
    "val_loss = history.history['val_loss']\n",
    "\n",
    "plt.figure(figsize=(20, 10))\n",
    "plt.subplot(2, 1, 1)\n",
    "plt.plot(acc, label='Training Accuracy')\n",
    "plt.plot(val_acc, label='Validation Accuracy')\n",
    "plt.legend(loc='lower right')\n",
    "plt.ylabel('Accuracy')\n",
    "plt.ylim([min(plt.ylim()),1])\n",
    "plt.title('Training and Validation Accuracy')\n",
    "\n",
    "plt.subplot(2, 1, 2)\n",
    "plt.plot(loss, label='Training Loss')\n",
    "plt.plot(val_loss, label='Validation Loss')\n",
    "plt.legend(loc='upper right')\n",
    "plt.ylabel('Cross Entropy')\n",
    "plt.ylim([0,4.0])\n",
    "plt.title('Training and Validation Loss')\n",
    "plt.xlabel('epoch')\n",
    "plt.show()"
   ]
  }
 ],
 "metadata": {
  "accelerator": "GPU",
  "colab": {
   "collapsed_sections": [],
   "name": "VGG19-V8.ipynb",
   "provenance": []
  },
  "kernelspec": {
   "display_name": "Python 3",
   "language": "python",
   "name": "python3"
  },
  "language_info": {
   "codemirror_mode": {
    "name": "ipython",
    "version": 3
   },
   "file_extension": ".py",
   "mimetype": "text/x-python",
   "name": "python",
   "nbconvert_exporter": "python",
   "pygments_lexer": "ipython3",
   "version": "3.8.5"
  }
 },
 "nbformat": 4,
 "nbformat_minor": 1
}
