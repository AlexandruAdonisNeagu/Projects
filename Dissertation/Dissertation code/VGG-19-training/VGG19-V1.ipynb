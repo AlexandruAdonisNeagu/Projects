{
 "cells": [
  {
   "cell_type": "markdown",
   "metadata": {},
   "source": [
    "# Import all the libraries required and cofiguring the GPU"
   ]
  },
  {
   "cell_type": "code",
   "execution_count": null,
   "metadata": {
    "colab": {
     "base_uri": "https://localhost:8080/"
    },
    "executionInfo": {
     "elapsed": 9490,
     "status": "ok",
     "timestamp": 1628851325776,
     "user": {
      "displayName": "Diana Prahoveanu",
      "photoUrl": "",
      "userId": "09455902628397953770"
     },
     "user_tz": -180
    },
    "id": "q4da_7OqpUAe",
    "outputId": "fdb1fb7c-0e5a-44e2-8c63-7b4571c93236"
   },
   "outputs": [
    {
     "name": "stdout",
     "output_type": "stream",
     "text": [
      "\u001b[?25l\r",
      "\u001b[K     |███▍                            | 10 kB 31.3 MB/s eta 0:00:01\r",
      "\u001b[K     |██████▉                         | 20 kB 25.2 MB/s eta 0:00:01\r",
      "\u001b[K     |██████████▏                     | 30 kB 18.3 MB/s eta 0:00:01\r",
      "\u001b[K     |█████████████▋                  | 40 kB 16.3 MB/s eta 0:00:01\r",
      "\u001b[K     |█████████████████               | 51 kB 7.2 MB/s eta 0:00:01\r",
      "\u001b[K     |████████████████████▍           | 61 kB 8.4 MB/s eta 0:00:01\r",
      "\u001b[K     |███████████████████████▊        | 71 kB 8.7 MB/s eta 0:00:01\r",
      "\u001b[K     |███████████████████████████▏    | 81 kB 9.0 MB/s eta 0:00:01\r",
      "\u001b[K     |██████████████████████████████▋ | 92 kB 9.4 MB/s eta 0:00:01\r",
      "\u001b[K     |████████████████████████████████| 96 kB 4.2 MB/s \n",
      "\u001b[?25h1 Physical GPUs, 1 Logical GPUs\n"
     ]
    }
   ],
   "source": [
    "import matplotlib.pyplot as plt\n",
    "import numpy as np\n",
    "import os\n",
    "import tensorflow as tf\n",
    "from tensorflow import keras\n",
    "from tensorflow.keras import backend as K\n",
    "from tensorflow.keras import layers,models\n",
    "from tensorflow.keras.models import Model\n",
    "from tensorflow.keras.preprocessing.image import ImageDataGenerator\n",
    "from tensorflow.keras.regularizers import l2\n",
    "import math\n",
    "gpus = tf.config.list_physical_devices('GPU')\n",
    "if gpus:\n",
    "  try:\n",
    "    # Currently, memory growth needs to be the same across GPUs\n",
    "    for gpu in gpus:\n",
    "      tf.config.experimental.set_memory_growth(gpu, True)\n",
    "    logical_gpus = tf.config.experimental.list_logical_devices('GPU')\n",
    "    print(len(gpus), \"Physical GPUs,\", len(logical_gpus), \"Logical GPUs\")\n",
    "  except RuntimeError as e:\n",
    "    # Memory growth must be set before GPUs have been initialized\n",
    "    print(e)"
   ]
  },
  {
   "cell_type": "markdown",
   "metadata": {},
   "source": [
    "# Import a pre-trained model from keras using the weights from ImageNet"
   ]
  },
  {
   "cell_type": "code",
   "execution_count": null,
   "metadata": {
    "colab": {
     "base_uri": "https://localhost:8080/"
    },
    "executionInfo": {
     "elapsed": 958,
     "status": "ok",
     "timestamp": 1628377864831,
     "user": {
      "displayName": "Diana Prahoveanu",
      "photoUrl": "",
      "userId": "09455902628397953770"
     },
     "user_tz": -180
    },
    "id": "IycpSDBDpUAh",
    "outputId": "3d01c7ab-f54a-4e75-dff6-db39d1b11653"
   },
   "outputs": [
    {
     "name": "stdout",
     "output_type": "stream",
     "text": [
      "Downloading data from https://storage.googleapis.com/tensorflow/keras-applications/vgg19/vgg19_weights_tf_dim_ordering_tf_kernels_notop.h5\n",
      "80142336/80134624 [==============================] - 1s 0us/step\n"
     ]
    }
   ],
   "source": [
    "img_width, img_height = 224, 224 #Set the image size\n",
    "#Check the picture layout\n",
    "if K.image_data_format() == 'channels_first':\n",
    "    input_shape = (3, img_width, img_height)\n",
    "else:\n",
    "    input_shape = (img_width, img_height, 3)\n",
    "#Save the imported model in variable called base_model\n",
    "base_model=tf.keras.applications.VGG19(\n",
    "    include_top=False,\n",
    "    input_shape=input_shape,\n",
    "    weights=\"imagenet\",\n",
    ")\n",
    "\n",
    "#Freez the layers in order to not lose the weights\n",
    "for layer in base_model.layers:\n",
    "        layer.trainable = False\n",
    "\n",
    "\n",
    "\n",
    "        "
   ]
  },
  {
   "cell_type": "markdown",
   "metadata": {},
   "source": [
    "# Use Image data generator for data augmentation"
   ]
  },
  {
   "cell_type": "code",
   "execution_count": null,
   "metadata": {
    "colab": {
     "base_uri": "https://localhost:8080/"
    },
    "executionInfo": {
     "elapsed": 8199,
     "status": "ok",
     "timestamp": 1628377873292,
     "user": {
      "displayName": "Diana Prahoveanu",
      "photoUrl": "",
      "userId": "09455902628397953770"
     },
     "user_tz": -180
    },
    "id": "-fSTNYrJpUAh",
    "outputId": "036ee6ce-b150-4f3a-fbd8-ec916eae8550"
   },
   "outputs": [
    {
     "name": "stdout",
     "output_type": "stream",
     "text": [
      "Found 227124 images belonging to 7 classes.\n",
      "Found 56777 images belonging to 7 classes.\n"
     ]
    },
    {
     "data": {
      "text/plain": [
       "{'Anger': 0,\n",
       " 'Disgust': 1,\n",
       " 'Fear': 2,\n",
       " 'Happy': 3,\n",
       " 'Neutral': 4,\n",
       " 'Sad': 5,\n",
       " 'Surprise': 6}"
      ]
     },
     "execution_count": 7,
     "metadata": {
      "tags": []
     },
     "output_type": "execute_result"
    }
   ],
   "source": [
    "train_data_dir = '/content/Training_data_c' #Instantiate the path for dataset \n",
    "batch_size = 128 #Set the batch size\n",
    "\n",
    "#Set the variables for data augmentation\n",
    "train_datagen = ImageDataGenerator(\n",
    "       rescale=1./255,\n",
    "        zoom_range=0.1,\n",
    "        validation_split=0.2,\n",
    "        rotation_range=5,\n",
    "        horizontal_flip=True)\n",
    "#Apply data augmentation on training set\n",
    "training_set = train_datagen.flow_from_directory(\n",
    "        train_data_dir,\n",
    "        target_size=(img_width, img_height),\n",
    "        batch_size=batch_size,\n",
    "        shuffle = True,\n",
    "        subset='training',\n",
    "        class_mode='categorical')\n",
    " \n",
    "#Apply data augmentation on validation set\n",
    "test_set= train_datagen.flow_from_directory(\n",
    "        train_data_dir,\n",
    "        target_size=(img_width, img_height),\n",
    "        batch_size=batch_size,\n",
    "        subset='validation',\n",
    "        shuffle = False,\n",
    "        class_mode='categorical')\n",
    " \n",
    "\n",
    "test_set.class_indices #Print the classes"
   ]
  },
  {
   "cell_type": "markdown",
   "metadata": {},
   "source": [
    "# Add the layers and parameters to the model"
   ]
  },
  {
   "cell_type": "code",
   "execution_count": null,
   "metadata": {
    "colab": {
     "base_uri": "https://localhost:8080/"
    },
    "executionInfo": {
     "elapsed": 6,
     "status": "ok",
     "timestamp": 1628377873293,
     "user": {
      "displayName": "Diana Prahoveanu",
      "photoUrl": "",
      "userId": "09455902628397953770"
     },
     "user_tz": -180
    },
    "id": "OVUbDoOBpUAi",
    "outputId": "0982aa2b-105d-4893-cff5-26527785973d"
   },
   "outputs": [
    {
     "name": "stdout",
     "output_type": "stream",
     "text": [
      "Model: \"model\"\n",
      "_________________________________________________________________\n",
      "Layer (type)                 Output Shape              Param #   \n",
      "=================================================================\n",
      "input_1 (InputLayer)         [(None, 224, 224, 3)]     0         \n",
      "_________________________________________________________________\n",
      "block1_conv1 (Conv2D)        (None, 224, 224, 64)      1792      \n",
      "_________________________________________________________________\n",
      "block1_conv2 (Conv2D)        (None, 224, 224, 64)      36928     \n",
      "_________________________________________________________________\n",
      "block1_pool (MaxPooling2D)   (None, 112, 112, 64)      0         \n",
      "_________________________________________________________________\n",
      "block2_conv1 (Conv2D)        (None, 112, 112, 128)     73856     \n",
      "_________________________________________________________________\n",
      "block2_conv2 (Conv2D)        (None, 112, 112, 128)     147584    \n",
      "_________________________________________________________________\n",
      "block2_pool (MaxPooling2D)   (None, 56, 56, 128)       0         \n",
      "_________________________________________________________________\n",
      "block3_conv1 (Conv2D)        (None, 56, 56, 256)       295168    \n",
      "_________________________________________________________________\n",
      "block3_conv2 (Conv2D)        (None, 56, 56, 256)       590080    \n",
      "_________________________________________________________________\n",
      "block3_conv3 (Conv2D)        (None, 56, 56, 256)       590080    \n",
      "_________________________________________________________________\n",
      "block3_conv4 (Conv2D)        (None, 56, 56, 256)       590080    \n",
      "_________________________________________________________________\n",
      "block3_pool (MaxPooling2D)   (None, 28, 28, 256)       0         \n",
      "_________________________________________________________________\n",
      "block4_conv1 (Conv2D)        (None, 28, 28, 512)       1180160   \n",
      "_________________________________________________________________\n",
      "block4_conv2 (Conv2D)        (None, 28, 28, 512)       2359808   \n",
      "_________________________________________________________________\n",
      "block4_conv3 (Conv2D)        (None, 28, 28, 512)       2359808   \n",
      "_________________________________________________________________\n",
      "block4_conv4 (Conv2D)        (None, 28, 28, 512)       2359808   \n",
      "_________________________________________________________________\n",
      "block4_pool (MaxPooling2D)   (None, 14, 14, 512)       0         \n",
      "_________________________________________________________________\n",
      "block5_conv1 (Conv2D)        (None, 14, 14, 512)       2359808   \n",
      "_________________________________________________________________\n",
      "block5_conv2 (Conv2D)        (None, 14, 14, 512)       2359808   \n",
      "_________________________________________________________________\n",
      "block5_conv3 (Conv2D)        (None, 14, 14, 512)       2359808   \n",
      "_________________________________________________________________\n",
      "block5_conv4 (Conv2D)        (None, 14, 14, 512)       2359808   \n",
      "_________________________________________________________________\n",
      "block5_pool (MaxPooling2D)   (None, 7, 7, 512)         0         \n",
      "_________________________________________________________________\n",
      "global_max_pooling2d (Global (None, 512)               0         \n",
      "_________________________________________________________________\n",
      "flatten (Flatten)            (None, 512)               0         \n",
      "_________________________________________________________________\n",
      "dense (Dense)                (None, 512)               262656    \n",
      "_________________________________________________________________\n",
      "re_lu (ReLU)                 (None, 512)               0         \n",
      "_________________________________________________________________\n",
      "dense_1 (Dense)              (None, 256)               131328    \n",
      "_________________________________________________________________\n",
      "re_lu_1 (ReLU)               (None, 256)               0         \n",
      "_________________________________________________________________\n",
      "dense_2 (Dense)              (None, 7)                 1799      \n",
      "=================================================================\n",
      "Total params: 20,420,167\n",
      "Trainable params: 395,783\n",
      "Non-trainable params: 20,024,384\n",
      "_________________________________________________________________\n"
     ]
    }
   ],
   "source": [
    "num_classes = 7 #Set the number of output neurons\n",
    "                     \n",
    "base_input=base_model.layers[0].input #Save the layers of the pre-trained model\n",
    "base_output=base_model.layers[-1].output #Save the output of the last layer\n",
    "\n",
    "    \n",
    "final_output=layers.GlobalMaxPooling2D(data_format='channels_last')(base_output) #Add GlobalMaxPoolig layer\n",
    "    \n",
    "final_output=layers.Flatten()(final_output) # Add Flatten layer\n",
    "\n",
    "final_output=layers.Dense(512)(final_output) #Add fully conected layer with 512 neurons\n",
    "final_output=tf.keras.layers.ReLU()(final_output) #Add activation function\n",
    "final_output=layers.Dense(256)(final_output) #Add fully connected layer with 256 neurons\n",
    "final_output=tf.keras.layers.ReLU()(final_output)#Add activation function\n",
    "\n",
    "final_output=layers.Dense(num_classes,activation='softmax')(final_output)#Add output layer with neurons for each class\n",
    "\n",
    "\n",
    "new_model=tf.keras.Model(inputs=base_input,outputs=final_output)#Add the new layers to the model\n",
    "new_model.compile(optimizer='adam', loss=tf.keras.losses.CategoricalCrossentropy(),metrics=['accuracy'])#Compile the model using adam optimizer\n",
    "new_model.summary()# Print the model"
   ]
  },
  {
   "cell_type": "markdown",
   "metadata": {},
   "source": [
    "# Train the model for ten epochs and save the best weights using ModelCheckpoint"
   ]
  },
  {
   "cell_type": "code",
   "execution_count": null,
   "metadata": {
    "colab": {
     "base_uri": "https://localhost:8080/"
    },
    "executionInfo": {
     "elapsed": 34035266,
     "status": "ok",
     "timestamp": 1628411908556,
     "user": {
      "displayName": "Diana Prahoveanu",
      "photoUrl": "",
      "userId": "09455902628397953770"
     },
     "user_tz": -180
    },
    "id": "Kif1LdYKpUAj",
    "outputId": "9f5f0a73-b377-425c-df1c-e45a3dc61be1",
    "scrolled": false
   },
   "outputs": [
    {
     "name": "stdout",
     "output_type": "stream",
     "text": [
      "Epoch 1/10\n",
      "1774/1774 [==============================] - 3530s 2s/step - loss: 1.2019 - accuracy: 0.5536 - val_loss: 1.1632 - val_accuracy: 0.5666\n",
      "Epoch 2/10\n",
      "1774/1774 [==============================] - 3437s 2s/step - loss: 1.1483 - accuracy: 0.5739 - val_loss: 1.1323 - val_accuracy: 0.5778\n",
      "Epoch 3/10\n",
      "1774/1774 [==============================] - 3401s 2s/step - loss: 1.1274 - accuracy: 0.5811 - val_loss: 1.1271 - val_accuracy: 0.5816\n",
      "Epoch 4/10\n",
      "1774/1774 [==============================] - 3406s 2s/step - loss: 1.1161 - accuracy: 0.5847 - val_loss: 1.1309 - val_accuracy: 0.5811\n",
      "Epoch 5/10\n",
      "1774/1774 [==============================] - 3375s 2s/step - loss: 1.1065 - accuracy: 0.5890 - val_loss: 1.1322 - val_accuracy: 0.5808\n",
      "Epoch 6/10\n",
      "1774/1774 [==============================] - 3370s 2s/step - loss: 1.0982 - accuracy: 0.5916 - val_loss: 1.0941 - val_accuracy: 0.5955\n",
      "Epoch 7/10\n",
      "1774/1774 [==============================] - 3372s 2s/step - loss: 1.0916 - accuracy: 0.5945 - val_loss: 1.0930 - val_accuracy: 0.5921\n",
      "Epoch 8/10\n",
      "1774/1774 [==============================] - 3380s 2s/step - loss: 1.0852 - accuracy: 0.5976 - val_loss: 1.0969 - val_accuracy: 0.5915\n",
      "Epoch 9/10\n",
      "1774/1774 [==============================] - 3384s 2s/step - loss: 1.0783 - accuracy: 0.5999 - val_loss: 1.0880 - val_accuracy: 0.5969\n",
      "Epoch 10/10\n",
      "1774/1774 [==============================] - 3378s 2s/step - loss: 1.0754 - accuracy: 0.6015 - val_loss: 1.0893 - val_accuracy: 0.5967\n"
     ]
    }
   ],
   "source": [
    "model = new_model\n",
    "#Create a folder with the best models\n",
    "directory='/content/drive/MyDrive/Emotion_recognition/VGG19/Checkpoint_Vgg19-V1'\n",
    "name='Model'\n",
    "saved = os.path.join(directory, name + \"-{epoch:02d}.h5\")\n",
    "#Set up the ModelChepoint\n",
    "callback=tf.keras.callbacks.ModelCheckpoint(\n",
    "    filepath=saved, monitor='val_loss', verbose=0, save_best_only=True,\n",
    "    save_weights_only=False, mode='min', save_freq='epoch'\n",
    ")\n",
    "#Train the model\n",
    "history=model.fit(training_set,\n",
    "        epochs=10,\n",
    "        callbacks=callback,\n",
    "        steps_per_epoch=227124 // batch_size,\n",
    "        validation_data=test_set,\n",
    "        validation_steps= 56777 // batch_size)"
   ]
  },
  {
   "cell_type": "markdown",
   "metadata": {},
   "source": [
    "# Plot the accuracy and cross-entrpy diagram"
   ]
  },
  {
   "cell_type": "code",
   "execution_count": null,
   "metadata": {
    "colab": {
     "base_uri": "https://localhost:8080/",
     "height": 621
    },
    "executionInfo": {
     "elapsed": 647,
     "status": "ok",
     "timestamp": 1628411909200,
     "user": {
      "displayName": "Diana Prahoveanu",
      "photoUrl": "",
      "userId": "09455902628397953770"
     },
     "user_tz": -180
    },
    "id": "JpOeGehrpUAk",
    "outputId": "9e00247f-6646-4adc-a578-73130f2a3704"
   },
   "outputs": [
    {
     "data": {
      "image/png": "[encoded data removed]",
      "text/plain": [
       "<Figure size 1440x720 with 2 Axes>"
      ]
     },
     "metadata": {
      "needs_background": "light",
      "tags": []
     },
     "output_type": "display_data"
    }
   ],
   "source": [
    "acc = history.history['accuracy']\n",
    "val_acc = history.history['val_accuracy']\n",
    "\n",
    "loss = history.history['loss']\n",
    "val_loss = history.history['val_loss']\n",
    "\n",
    "plt.figure(figsize=(20, 10))\n",
    "plt.subplot(2, 1, 1)\n",
    "plt.plot(acc, label='Training Accuracy')\n",
    "plt.plot(val_acc, label='Validation Accuracy')\n",
    "plt.legend(loc='lower right')\n",
    "plt.ylabel('Accuracy')\n",
    "plt.ylim([min(plt.ylim()),1])\n",
    "plt.title('Training and Validation Accuracy')\n",
    "\n",
    "plt.subplot(2, 1, 2)\n",
    "plt.plot(loss, label='Training Loss')\n",
    "plt.plot(val_loss, label='Validation Loss')\n",
    "plt.legend(loc='upper right')\n",
    "plt.ylabel('Cross Entropy')\n",
    "plt.ylim([0,4.0])\n",
    "plt.title('Training and Validation Loss')\n",
    "plt.xlabel('epoch')\n",
    "plt.show()"
   ]
  }
 ],
 "metadata": {
  "accelerator": "GPU",
  "colab": {
   "collapsed_sections": [],
   "name": "VGG19-V1.ipynb",
   "provenance": []
  },
  "kernelspec": {
   "display_name": "Python 3",
   "language": "python",
   "name": "python3"
  },
  "language_info": {
   "codemirror_mode": {
    "name": "ipython",
    "version": 3
   },
   "file_extension": ".py",
   "mimetype": "text/x-python",
   "name": "python",
   "nbconvert_exporter": "python",
   "pygments_lexer": "ipython3",
   "version": "3.8.5"
  }
 },
 "nbformat": 4,
 "nbformat_minor": 1
}
