{
 "cells": [
  {
   "cell_type": "markdown",
   "metadata": {},
   "source": [
    "# Import all the libraries required and cofiguring the GPU"
   ]
  },
  {
   "cell_type": "code",
   "execution_count": 1,
   "metadata": {},
   "outputs": [
    {
     "name": "stdout",
     "output_type": "stream",
     "text": [
      "1 Physical GPUs, 1 Logical GPUs\n"
     ]
    }
   ],
   "source": [
    "import matplotlib.pyplot as plt\n",
    "import numpy as np\n",
    "import os\n",
    "import tensorflow as tf\n",
    "from tensorflow import keras\n",
    "from tensorflow.keras import backend as K\n",
    "from tensorflow.keras import layers,models\n",
    "from tensorflow.keras.models import Model\n",
    "from tensorflow.keras.preprocessing.image import ImageDataGenerator\n",
    "from tensorflow.keras.regularizers import l2\n",
    "import math\n",
    "!pip install -q -U keras-tuner\n",
    "import keras_tuner as ktPI\n",
    "gpus = tf.config.list_physical_devices('GPU')\n",
    "if gpus:\n",
    "  try:\n",
    "    # Currently, memory growth needs to be the same across GPUs\n",
    "    for gpu in gpus:\n",
    "      tf.config.experimental.set_memory_growth(gpu, True)\n",
    "    logical_gpus = tf.config.experimental.list_logical_devices('GPU')\n",
    "    print(len(gpus), \"Physical GPUs,\", len(logical_gpus), \"Logical GPUs\")\n",
    "  except RuntimeError as e:\n",
    "    # Memory growth must be set before GPUs have been initialized\n",
    "    print(e)"
   ]
  },
  {
   "cell_type": "markdown",
   "metadata": {},
   "source": [
    "# Import a pre-trained model from keras using the weights from ImageNet"
   ]
  },
  {
   "cell_type": "code",
   "execution_count": 3,
   "metadata": {},
   "outputs": [],
   "source": [
    "img_width, img_height = 224, 224 #Set the image size\n",
    "#Check the picture layout\n",
    "if K.image_data_format() == 'channels_first':\n",
    "    input_shape = (3, img_width, img_height)\n",
    "else:\n",
    "    input_shape = (img_width, img_height, 3)\n",
    "#Save the imported model in variable called base_model\n",
    "base_model=tf.keras.applications.VGG19(\n",
    "    include_top=False,\n",
    "    input_shape=input_shape,\n",
    "    weights=\"imagenet\",\n",
    ")\n",
    "\n",
    "#Freez the layers in order to not lose the weights\n",
    "for layer in base_model.layers:\n",
    "        layer.trainable = False      "
   ]
  },
  {
   "cell_type": "markdown",
   "metadata": {},
   "source": [
    "# Use Image data generator for data augmentation"
   ]
  },
  {
   "cell_type": "code",
   "execution_count": 4,
   "metadata": {},
   "outputs": [
    {
     "name": "stdout",
     "output_type": "stream",
     "text": [
      "Found 227124 images belonging to 7 classes.\n",
      "Found 56777 images belonging to 7 classes.\n"
     ]
    },
    {
     "data": {
      "text/plain": [
       "{'Anger': 0,\n",
       " 'Disgust': 1,\n",
       " 'Fear': 2,\n",
       " 'Happy': 3,\n",
       " 'Neutral': 4,\n",
       " 'Sad': 5,\n",
       " 'Surprise': 6}"
      ]
     },
     "execution_count": 4,
     "metadata": {},
     "output_type": "execute_result"
    }
   ],
   "source": [
    "train_data_dir = '/content/Training_data_c' #Instantiate the path for dataset \n",
    "batch_size = 128 #Set the batch size\n",
    "\n",
    "#Set the variables for data augmentation\n",
    "train_datagen = ImageDataGenerator(\n",
    "       rescale=1./255,\n",
    "        zoom_range=0.1,\n",
    "        validation_split=0.2,\n",
    "        rotation_range=5,\n",
    "        horizontal_flip=True)\n",
    "#Apply data augmentation on training set\n",
    "training_set = train_datagen.flow_from_directory(\n",
    "        train_data_dir,\n",
    "        target_size=(img_width, img_height),\n",
    "        batch_size=batch_size,\n",
    "        shuffle = True,\n",
    "        subset='training',\n",
    "        class_mode='categorical')\n",
    " \n",
    "#Apply data augmentation on validation set\n",
    "test_set= train_datagen.flow_from_directory(\n",
    "        train_data_dir,\n",
    "        target_size=(img_width, img_height),\n",
    "        batch_size=batch_size,\n",
    "        subset='validation',\n",
    "        shuffle = False,\n",
    "        class_mode='categorical')\n",
    " \n",
    "\n",
    "test_set.class_indices #Print the classes"
   ]
  },
  {
   "cell_type": "markdown",
   "metadata": {},
   "source": [
    "# Add the layers and parameters to the model for the fine-tuning process with keras tuner"
   ]
  },
  {
   "cell_type": "code",
   "execution_count": 5,
   "metadata": {},
   "outputs": [],
   "source": [
    "#Create a function that contains the parametes that are going to be fine-tuned\n",
    "def model_builder(hp):\n",
    "    \n",
    "    num_classes = 7#Set the number of output neurons\n",
    " \n",
    "                        \n",
    "    base_input=base_model.layers[0].input #Save the layers of the pre-trained model\n",
    "    base_output=base_model.layers[-1].output #Save the output of the last layer\n",
    "    \n",
    "    #Add a convolutional layer with neurons between 32 and 512, filter size of 3*3, and regularization between 0.01 and 0.00001\n",
    "    final_output=layers.Conv2D(hp.Int('units_base', min_value=32, max_value=512, step=32, default=128), kernel_size=(3,3), padding=\"same\",kernel_regularizer=l2(hp.Float('regularizarer_conv_', 1e-5, 1e-2, sampling='LOG', default=1e-3)),name='conv_2d_base')(base_output)\n",
    "    final_output=layers.BatchNormalization(name='batch_base')(final_output)#Add batch normalization\n",
    "    final_output=tf.keras.layers.ReLU()(final_output)#Add activation function\n",
    "    \n",
    "    #Add one or two convolutional layers\n",
    "    for i in range(hp.Int('num_layers_conv2d', 1, 2)):\n",
    "             #Add a convolutional layer with neurons between 32 and 512, filter size of 3*3, and regularization between 0.01 and 0.00001\n",
    "             final_output=layers.Conv2D(hp.Int('units_conv2d_'+str(i), min_value=32, max_value=512, step=32, default=128), kernel_size=(3,3), padding=\"same\",kernel_regularizer=l2(hp.Float('regularizarer_conv_'+str(i), 1e-5, 1e-2, sampling='LOG', default=1e-3)),name='conv_2d_'+str(i))(final_output)\n",
    "             final_output=layers.BatchNormalization(name='batch_1_'+str(i))(final_output)#Add batch normalization\n",
    "             final_output=tf.keras.layers.ReLU()(final_output)#Add activation function\n",
    "\n",
    "    final_output=layers.GlobalMaxPooling2D(data_format='channels_last')(final_output)#Add GlobalMaxPoolig layer\n",
    "    \n",
    "    final_output=layers.Dropout(rate=hp.Float('rate', 0, .2, step=.1, default=.2))(final_output)#Add a Dropout layer with a rate between 0 and 0.2\n",
    "    final_output=layers.Flatten()(final_output)# Add Flatten layer\n",
    "\n",
    "    #Add one or two fully connected layers\n",
    "    for i in range(hp.Int('num_layers_dense', 1, 2)): \n",
    "            #Add a fully connected layer with neurons between 32 and 512, filter size of 3*3, and regularization between 0.01 and 0.00001\n",
    "            final_output=layers.Dense(hp.Int('units_dense_'+str(i), min_value=32, max_value=512, step=32, default=128),kernel_regularizer=l2(hp.Float('regularizarer_dense_'+str(i), 1e-5, 1e-2, sampling='LOG', default=1e-3)),name='dense_'+str(i))(final_output)\n",
    "            final_output=layers.BatchNormalization(name='batch_2_'+str(i))(final_output)#Add batch normalization\n",
    "            final_output=tf.keras.layers.ReLU()(final_output)#Add activation function\n",
    "\n",
    "    final_output=layers.Dense(num_classes,activation='softmax')(final_output)#Add output layer with neurons for each class\n",
    "\n",
    "\n",
    "new_model=tf.keras.Model(inputs=base_input,outputs=final_output)#Add the new layers to the model\n",
    "new_model.compile(optimizer='adam', loss=tf.keras.losses.CategoricalCrossentropy(),metrics=['accuracy'])#Compile the model using adam optimizer\n",
    "new_model.summary()# Print the model"
   ]
  },
  {
   "cell_type": "markdown",
   "metadata": {},
   "source": [
    "# Initialize the tuner to find the best model"
   ]
  },
  {
   "cell_type": "code",
   "execution_count": 6,
   "metadata": {
    "scrolled": true
   },
   "outputs": [
    {
     "name": "stdout",
     "output_type": "stream",
     "text": [
      "INFO:tensorflow:Reloading Oracle from existing project .\\emotion3_kt\\oracle.json\n",
      "Model: \"model\"\n",
      "_________________________________________________________________\n",
      "Layer (type)                 Output Shape              Param #   \n",
      "=================================================================\n",
      "input_1 (InputLayer)         [(None, 224, 224, 3)]     0         \n",
      "_________________________________________________________________\n",
      "block1_conv1 (Conv2D)        (None, 224, 224, 64)      1792      \n",
      "_________________________________________________________________\n",
      "block1_conv2 (Conv2D)        (None, 224, 224, 64)      36928     \n",
      "_________________________________________________________________\n",
      "block1_pool (MaxPooling2D)   (None, 112, 112, 64)      0         \n",
      "_________________________________________________________________\n",
      "block2_conv1 (Conv2D)        (None, 112, 112, 128)     73856     \n",
      "_________________________________________________________________\n",
      "block2_conv2 (Conv2D)        (None, 112, 112, 128)     147584    \n",
      "_________________________________________________________________\n",
      "block2_pool (MaxPooling2D)   (None, 56, 56, 128)       0         \n",
      "_________________________________________________________________\n",
      "block3_conv1 (Conv2D)        (None, 56, 56, 256)       295168    \n",
      "_________________________________________________________________\n",
      "block3_conv2 (Conv2D)        (None, 56, 56, 256)       590080    \n",
      "_________________________________________________________________\n",
      "block3_conv3 (Conv2D)        (None, 56, 56, 256)       590080    \n",
      "_________________________________________________________________\n",
      "block3_conv4 (Conv2D)        (None, 56, 56, 256)       590080    \n",
      "_________________________________________________________________\n",
      "block3_pool (MaxPooling2D)   (None, 28, 28, 256)       0         \n",
      "_________________________________________________________________\n",
      "block4_conv1 (Conv2D)        (None, 28, 28, 512)       1180160   \n",
      "_________________________________________________________________\n",
      "block4_conv2 (Conv2D)        (None, 28, 28, 512)       2359808   \n",
      "_________________________________________________________________\n",
      "block4_conv3 (Conv2D)        (None, 28, 28, 512)       2359808   \n",
      "_________________________________________________________________\n",
      "block4_conv4 (Conv2D)        (None, 28, 28, 512)       2359808   \n",
      "_________________________________________________________________\n",
      "block4_pool (MaxPooling2D)   (None, 14, 14, 512)       0         \n",
      "_________________________________________________________________\n",
      "block5_conv1 (Conv2D)        (None, 14, 14, 512)       2359808   \n",
      "_________________________________________________________________\n",
      "block5_conv2 (Conv2D)        (None, 14, 14, 512)       2359808   \n",
      "_________________________________________________________________\n",
      "block5_conv3 (Conv2D)        (None, 14, 14, 512)       2359808   \n",
      "_________________________________________________________________\n",
      "block5_conv4 (Conv2D)        (None, 14, 14, 512)       2359808   \n",
      "_________________________________________________________________\n",
      "block5_pool (MaxPooling2D)   (None, 7, 7, 512)         0         \n",
      "_________________________________________________________________\n",
      "conv_2d_base (Conv2D)        (None, 7, 7, 128)         589952    \n",
      "_________________________________________________________________\n",
      "batch_base (BatchNormalizati (None, 7, 7, 128)         512       \n",
      "_________________________________________________________________\n",
      "re_lu (ReLU)                 (None, 7, 7, 128)         0         \n",
      "_________________________________________________________________\n",
      "conv_2d_0 (Conv2D)           (None, 7, 7, 128)         147584    \n",
      "_________________________________________________________________\n",
      "batch_1_0 (BatchNormalizatio (None, 7, 7, 128)         512       \n",
      "_________________________________________________________________\n",
      "re_lu_1 (ReLU)               (None, 7, 7, 128)         0         \n",
      "_________________________________________________________________\n",
      "global_max_pooling2d (Global (None, 128)               0         \n",
      "_________________________________________________________________\n",
      "dropout (Dropout)            (None, 128)               0         \n",
      "_________________________________________________________________\n",
      "flatten (Flatten)            (None, 128)               0         \n",
      "_________________________________________________________________\n",
      "dense_0 (Dense)              (None, 128)               16512     \n",
      "_________________________________________________________________\n",
      "batch_2_0 (BatchNormalizatio (None, 128)               512       \n",
      "_________________________________________________________________\n",
      "re_lu_2 (ReLU)               (None, 128)               0         \n",
      "_________________________________________________________________\n",
      "dense (Dense)                (None, 7)                 903       \n",
      "=================================================================\n",
      "Total params: 20,780,871\n",
      "Trainable params: 755,719\n",
      "Non-trainable params: 20,025,152\n",
      "_________________________________________________________________\n",
      "INFO:tensorflow:Reloading Tuner from .\\emotion3_kt\\tuner0.json\n"
     ]
    }
   ],
   "source": [
    "tuner = kt.Hyperband(model_builder,\n",
    "                     objective='val_loss',\n",
    "                     max_epochs=15,\n",
    "                     factor=10,\n",
    "                     project_name='emotion3_kt')"
   ]
  },
  {
   "cell_type": "markdown",
   "metadata": {},
   "source": [
    "# Start the search and get the best model:"
   ]
  },
  {
   "cell_type": "code",
   "execution_count": 7,
   "metadata": {},
   "outputs": [
    {
     "name": "stdout",
     "output_type": "stream",
     "text": [
      "Trial 3 Complete [20h 26m 06s]\n",
      "val_loss: 0.9472759366035461\n",
      "\n",
      "Best val_loss So Far: 0.9226314425468445\n",
      "Total elapsed time: 02h 57m 57s\n",
      "INFO:tensorflow:Oracle triggered exit\n"
     ]
    }
   ],
   "source": [
    "stop_early = tf.keras.callbacks.EarlyStopping(monitor='val_loss', patience=5) #Stops the current search if there is no improvment\n",
    "tuner.search(training_set ,validation_data=test_set, epochs=15,callbacks=[stop_early])#Runs the serach for parameters\n",
    "best_hps=tuner.get_best_hyperparameters(num_trials=1)[0]#Retrive the best parameter"
   ]
  },
  {
   "cell_type": "markdown",
   "metadata": {},
   "source": [
    "# Train the model for 30 epochs and save the best weights using ModelCheckpoint"
   ]
  },
  {
   "cell_type": "code",
   "execution_count": 8,
   "metadata": {
    "scrolled": false
   },
   "outputs": [
    {
     "name": "stdout",
     "output_type": "stream",
     "text": [
      "Model: \"model\"\n",
      "_________________________________________________________________\n",
      "Layer (type)                 Output Shape              Param #   \n",
      "=================================================================\n",
      "input_1 (InputLayer)         [(None, 224, 224, 3)]     0         \n",
      "_________________________________________________________________\n",
      "block1_conv1 (Conv2D)        (None, 224, 224, 64)      1792      \n",
      "_________________________________________________________________\n",
      "block1_conv2 (Conv2D)        (None, 224, 224, 64)      36928     \n",
      "_________________________________________________________________\n",
      "block1_pool (MaxPooling2D)   (None, 112, 112, 64)      0         \n",
      "_________________________________________________________________\n",
      "block2_conv1 (Conv2D)        (None, 112, 112, 128)     73856     \n",
      "_________________________________________________________________\n",
      "block2_conv2 (Conv2D)        (None, 112, 112, 128)     147584    \n",
      "_________________________________________________________________\n",
      "block2_pool (MaxPooling2D)   (None, 56, 56, 128)       0         \n",
      "_________________________________________________________________\n",
      "block3_conv1 (Conv2D)        (None, 56, 56, 256)       295168    \n",
      "_________________________________________________________________\n",
      "block3_conv2 (Conv2D)        (None, 56, 56, 256)       590080    \n",
      "_________________________________________________________________\n",
      "block3_conv3 (Conv2D)        (None, 56, 56, 256)       590080    \n",
      "_________________________________________________________________\n",
      "block3_conv4 (Conv2D)        (None, 56, 56, 256)       590080    \n",
      "_________________________________________________________________\n",
      "block3_pool (MaxPooling2D)   (None, 28, 28, 256)       0         \n",
      "_________________________________________________________________\n",
      "block4_conv1 (Conv2D)        (None, 28, 28, 512)       1180160   \n",
      "_________________________________________________________________\n",
      "block4_conv2 (Conv2D)        (None, 28, 28, 512)       2359808   \n",
      "_________________________________________________________________\n",
      "block4_conv3 (Conv2D)        (None, 28, 28, 512)       2359808   \n",
      "_________________________________________________________________\n",
      "block4_conv4 (Conv2D)        (None, 28, 28, 512)       2359808   \n",
      "_________________________________________________________________\n",
      "block4_pool (MaxPooling2D)   (None, 14, 14, 512)       0         \n",
      "_________________________________________________________________\n",
      "block5_conv1 (Conv2D)        (None, 14, 14, 512)       2359808   \n",
      "_________________________________________________________________\n",
      "block5_conv2 (Conv2D)        (None, 14, 14, 512)       2359808   \n",
      "_________________________________________________________________\n",
      "block5_conv3 (Conv2D)        (None, 14, 14, 512)       2359808   \n",
      "_________________________________________________________________\n",
      "block5_conv4 (Conv2D)        (None, 14, 14, 512)       2359808   \n",
      "_________________________________________________________________\n",
      "block5_pool (MaxPooling2D)   (None, 7, 7, 512)         0         \n",
      "_________________________________________________________________\n",
      "conv_2d_base (Conv2D)        (None, 7, 7, 64)          294976    \n",
      "_________________________________________________________________\n",
      "batch_base (BatchNormalizati (None, 7, 7, 64)          256       \n",
      "_________________________________________________________________\n",
      "re_lu (ReLU)                 (None, 7, 7, 64)          0         \n",
      "_________________________________________________________________\n",
      "conv_2d_0 (Conv2D)           (None, 7, 7, 384)         221568    \n",
      "_________________________________________________________________\n",
      "batch_1_0 (BatchNormalizatio (None, 7, 7, 384)         1536      \n",
      "_________________________________________________________________\n",
      "re_lu_1 (ReLU)               (None, 7, 7, 384)         0         \n",
      "_________________________________________________________________\n",
      "global_max_pooling2d (Global (None, 384)               0         \n",
      "_________________________________________________________________\n",
      "dropout (Dropout)            (None, 384)               0         \n",
      "_________________________________________________________________\n",
      "flatten (Flatten)            (None, 384)               0         \n",
      "_________________________________________________________________\n",
      "dense_0 (Dense)              (None, 96)                36960     \n",
      "_________________________________________________________________\n",
      "batch_2_0 (BatchNormalizatio (None, 96)                384       \n",
      "_________________________________________________________________\n",
      "re_lu_2 (ReLU)               (None, 96)                0         \n",
      "_________________________________________________________________\n",
      "dense (Dense)                (None, 7)                 679       \n",
      "=================================================================\n",
      "Total params: 20,580,743\n",
      "Trainable params: 555,271\n",
      "Non-trainable params: 20,025,472\n",
      "_________________________________________________________________\n",
      "Epoch 1/30\n",
      "1774/1774 [==============================] - 6728s 4s/step - loss: 1.1787 - accuracy: 0.6193 - val_loss: 1.0389 - val_accuracy: 0.6597\n",
      "Epoch 2/30\n",
      "1774/1774 [==============================] - 7192s 4s/step - loss: 0.9773 - accuracy: 0.6759 - val_loss: 1.0228 - val_accuracy: 0.6631\n",
      "Epoch 3/30\n",
      "1774/1774 [==============================] - 8978s 5s/step - loss: 0.9569 - accuracy: 0.6835 - val_loss: 0.9736 - val_accuracy: 0.6805\n",
      "Epoch 4/30\n",
      "1774/1774 [==============================] - 7373s 4s/step - loss: 0.9439 - accuracy: 0.6867 - val_loss: 0.9520 - val_accuracy: 0.6856\n",
      "Epoch 5/30\n",
      "1774/1774 [==============================] - 7519s 4s/step - loss: 0.9348 - accuracy: 0.6903 - val_loss: 0.9610 - val_accuracy: 0.6784\n",
      "Epoch 6/30\n",
      "1774/1774 [==============================] - 10288s 6s/step - loss: 0.9261 - accuracy: 0.6929 - val_loss: 0.9633 - val_accuracy: 0.6768\n",
      "Epoch 7/30\n",
      "1774/1774 [==============================] - 8155s 5s/step - loss: 0.9156 - accuracy: 0.6970 - val_loss: 0.9496 - val_accuracy: 0.6890\n",
      "Epoch 8/30\n",
      "1774/1774 [==============================] - 8320s 5s/step - loss: 0.9167 - accuracy: 0.6941 - val_loss: 0.9357 - val_accuracy: 0.6903\n",
      "Epoch 9/30\n",
      "1774/1774 [==============================] - 8537s 5s/step - loss: 0.9141 - accuracy: 0.6966 - val_loss: 0.9945 - val_accuracy: 0.6611\n",
      "Epoch 10/30\n",
      "1774/1774 [==============================] - 8735s 5s/step - loss: 0.9055 - accuracy: 0.6976 - val_loss: 0.9987 - val_accuracy: 0.6708\n",
      "Epoch 11/30\n",
      "1774/1774 [==============================] - 9106s 5s/step - loss: 0.9043 - accuracy: 0.6989 - val_loss: 0.9405 - val_accuracy: 0.6875\n",
      "Epoch 12/30\n",
      "1774/1774 [==============================] - 11393s 6s/step - loss: 0.8994 - accuracy: 0.7000 - val_loss: 0.9459 - val_accuracy: 0.6846\n",
      "Epoch 13/30\n",
      "1774/1774 [==============================] - 10005s 6s/step - loss: 0.8955 - accuracy: 0.7007 - val_loss: 0.9771 - val_accuracy: 0.6701\n",
      "Epoch 14/30\n",
      "1774/1774 [==============================] - 10129s 6s/step - loss: 0.9006 - accuracy: 0.6967 - val_loss: 0.9585 - val_accuracy: 0.6761\n",
      "Epoch 15/30\n",
      "1774/1774 [==============================] - 12841s 7s/step - loss: 0.8993 - accuracy: 0.6980 - val_loss: 0.9690 - val_accuracy: 0.6794\n",
      "Epoch 16/30\n",
      "1774/1774 [==============================] - 11783s 7s/step - loss: 0.8906 - accuracy: 0.7011 - val_loss: 0.9669 - val_accuracy: 0.6629\n",
      "Epoch 17/30\n",
      "1774/1774 [==============================] - 11487s 6s/step - loss: 0.8910 - accuracy: 0.7011 - val_loss: 1.0369 - val_accuracy: 0.6475\n",
      "Epoch 18/30\n",
      "1774/1774 [==============================] - 12015s 7s/step - loss: 0.8868 - accuracy: 0.7025 - val_loss: 0.9404 - val_accuracy: 0.6827\n",
      "Epoch 19/30\n",
      "1774/1774 [==============================] - 14863s 8s/step - loss: 0.8923 - accuracy: 0.6997 - val_loss: 0.9227 - val_accuracy: 0.6904\n",
      "Epoch 20/30\n",
      "1774/1774 [==============================] - 12210s 7s/step - loss: 0.8862 - accuracy: 0.7025 - val_loss: 0.9168 - val_accuracy: 0.6904\n",
      "Epoch 21/30\n",
      "1774/1774 [==============================] - 12223s 7s/step - loss: 0.8802 - accuracy: 0.7041 - val_loss: 0.9333 - val_accuracy: 0.6839\n",
      "Epoch 22/30\n",
      "1774/1774 [==============================] - 15677s 9s/step - loss: 0.8859 - accuracy: 0.7021 - val_loss: 0.9406 - val_accuracy: 0.6863\n"
     ]
    },
    {
     "name": "stdout",
     "output_type": "stream",
     "text": [
      "Epoch 23/30\n",
      "1774/1774 [==============================] - 15148s 9s/step - loss: 0.8856 - accuracy: 0.7027 - val_loss: 0.9936 - val_accuracy: 0.6652\n",
      "Epoch 24/30\n",
      "1774/1774 [==============================] - 16308s 9s/step - loss: 0.8864 - accuracy: 0.7014 - val_loss: 0.9540 - val_accuracy: 0.6827\n",
      "Epoch 25/30\n",
      "1774/1774 [==============================] - 17233s 10s/step - loss: 0.8803 - accuracy: 0.7046 - val_loss: 0.9846 - val_accuracy: 0.6792\n",
      "Epoch 26/30\n",
      "1774/1774 [==============================] - 15129s 9s/step - loss: 0.8821 - accuracy: 0.7031 - val_loss: 0.9578 - val_accuracy: 0.6748\n",
      "Epoch 27/30\n",
      "1774/1774 [==============================] - 16452s 9s/step - loss: 0.8836 - accuracy: 0.7039 - val_loss: 0.9230 - val_accuracy: 0.6903\n",
      "Epoch 28/30\n",
      "1774/1774 [==============================] - 17411s 10s/step - loss: 0.8816 - accuracy: 0.7047 - val_loss: 0.9355 - val_accuracy: 0.6881\n",
      "Epoch 29/30\n",
      "1774/1774 [==============================] - 18004s 10s/step - loss: 0.8855 - accuracy: 0.7023 - val_loss: 0.9810 - val_accuracy: 0.6654\n",
      "Epoch 30/30\n",
      "1774/1774 [==============================] - 19416s 11s/step - loss: 0.8876 - accuracy: 0.7019 - val_loss: 0.9109 - val_accuracy: 0.6944\n"
     ]
    }
   ],
   "source": [
    "model = tuner.hypermodel.build(best_hps)\n",
    "#Create a folder with the best models\n",
    "directory='Checkpoint_VGG19-V9'\n",
    "name='Model'\n",
    "saved = os.path.join(directory, name + \"-{epoch:02d}.h5\")\n",
    "#Set up the ModelChepoint\n",
    "callback=tf.keras.callbacks.ModelCheckpoint(\n",
    "    filepath=saved, monitor='val_loss', verbose=0, save_best_only=True,\n",
    "    save_weights_only=False, mode='min', save_freq='epoch'\n",
    ")\n",
    "#Train the model\n",
    "history=model.fit(training_set,\n",
    "        epochs=30,\n",
    "        callbacks=callback,\n",
    "        steps_per_epoch=227124 // batch_size,\n",
    "        validation_data=test_set,\n",
    "        validation_steps= 56777 // batch_size)"
   ]
  },
  {
   "cell_type": "markdown",
   "metadata": {},
   "source": [
    "# Plot the accuracy and cross-entropy diagrams"
   ]
  },
  {
   "cell_type": "code",
   "execution_count": 9,
   "metadata": {},
   "outputs": [
    {
     "data": {
      "image/png": "[encoded data removed]",
      "text/plain": [
       "<Figure size 1440x720 with 2 Axes>"
      ]
     },
     "metadata": {
      "needs_background": "light"
     },
     "output_type": "display_data"
    }
   ],
   "source": [
    "acc = history.history['accuracy']\n",
    "val_acc = history.history['val_accuracy']\n",
    "\n",
    "loss = history.history['loss']\n",
    "val_loss = history.history['val_loss']\n",
    "\n",
    "plt.figure(figsize=(20, 10))\n",
    "plt.subplot(2, 1, 1)\n",
    "plt.plot(acc, label='Training Accuracy')\n",
    "plt.plot(val_acc, label='Validation Accuracy')\n",
    "plt.legend(loc='lower right')\n",
    "plt.ylabel('Accuracy')\n",
    "plt.ylim([min(plt.ylim()),1])\n",
    "plt.title('Training and Validation Accuracy')\n",
    "\n",
    "plt.subplot(2, 1, 2)\n",
    "plt.plot(loss, label='Training Loss')\n",
    "plt.plot(val_loss, label='Validation Loss')\n",
    "plt.legend(loc='upper right')\n",
    "plt.ylabel('Cross Entropy')\n",
    "plt.ylim([0,4.0])\n",
    "plt.title('Training and Validation Loss')\n",
    "plt.xlabel('epoch')\n",
    "plt.show()"
   ]
  },
  {
   "cell_type": "code",
   "execution_count": null,
   "metadata": {},
   "outputs": [],
   "source": []
  }
 ],
 "metadata": {
  "kernelspec": {
   "display_name": "Kernal_gpu",
   "language": "python",
   "name": "environment_name"
  },
  "language_info": {
   "codemirror_mode": {
    "name": "ipython",
    "version": 3
   },
   "file_extension": ".py",
   "mimetype": "text/x-python",
   "name": "python",
   "nbconvert_exporter": "python",
   "pygments_lexer": "ipython3",
   "version": "3.8.5"
  }
 },
 "nbformat": 4,
 "nbformat_minor": 4
}
